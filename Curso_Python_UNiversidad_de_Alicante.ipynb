{
 "cells": [
  {
   "cell_type": "code",
   "execution_count": 25,
   "metadata": {},
   "outputs": [
    {
     "ename": "ZeroDivisionError",
     "evalue": "division by zero",
     "output_type": "error",
     "traceback": [
      "\u001b[1;31m---------------------------------------------------------------------------\u001b[0m",
      "\u001b[1;31mZeroDivisionError\u001b[0m                         Traceback (most recent call last)",
      "\u001b[1;32m<ipython-input-25-e6eb14ff9444>\u001b[0m in \u001b[0;36m<module>\u001b[1;34m\u001b[0m\n\u001b[1;32m----> 1\u001b[1;33m \u001b[1;36m1\u001b[0m\u001b[1;33m/\u001b[0m\u001b[1;36m0\u001b[0m \u001b[1;31m# dividir por cero en python lanza un error\u001b[0m\u001b[1;33m\u001b[0m\u001b[1;33m\u001b[0m\u001b[0m\n\u001b[0m",
      "\u001b[1;31mZeroDivisionError\u001b[0m: division by zero"
     ]
    }
   ],
   "source": [
    "1/0 # dividir por cero en python lanza un error"
   ]
  },
  {
   "cell_type": "code",
   "execution_count": 1,
   "metadata": {},
   "outputs": [
    {
     "data": {
      "text/plain": [
       "5"
      ]
     },
     "execution_count": 1,
     "metadata": {},
     "output_type": "execute_result"
    }
   ],
   "source": [
    "2+3"
   ]
  },
  {
   "cell_type": "code",
   "execution_count": 2,
   "metadata": {},
   "outputs": [
    {
     "data": {
      "text/plain": [
       "1"
      ]
     },
     "execution_count": 2,
     "metadata": {},
     "output_type": "execute_result"
    }
   ],
   "source": [
    "3//2 #si quiero que al dividir sólo me aparezca la parte entera"
   ]
  },
  {
   "cell_type": "code",
   "execution_count": 3,
   "metadata": {},
   "outputs": [],
   "source": [
    "##para hallar el valor absoluto de una función utilizo:"
   ]
  },
  {
   "cell_type": "code",
   "execution_count": 4,
   "metadata": {},
   "outputs": [
    {
     "data": {
      "text/plain": [
       "2"
      ]
     },
     "execution_count": 4,
     "metadata": {},
     "output_type": "execute_result"
    }
   ],
   "source": [
    "abs(-2)"
   ]
  },
  {
   "cell_type": "code",
   "execution_count": 5,
   "metadata": {},
   "outputs": [
    {
     "data": {
      "text/plain": [
       "3.605551275463989"
      ]
     },
     "execution_count": 5,
     "metadata": {},
     "output_type": "execute_result"
    }
   ],
   "source": [
    "abs(-2 + 3j) ## para calcular el valor absoluto de un número compeljo"
   ]
  },
  {
   "cell_type": "code",
   "execution_count": 6,
   "metadata": {},
   "outputs": [
    {
     "data": {
      "text/plain": [
       "(-1-5j)"
      ]
     },
     "execution_count": 6,
     "metadata": {},
     "output_type": "execute_result"
    }
   ],
   "source": [
    "(3 + 2j)*(-1-1j) ## otras operaciones con números complejos\n",
    "## siempre Python identificará un imaginario anteponiendole un número a la \"j\""
   ]
  },
  {
   "cell_type": "code",
   "execution_count": 7,
   "metadata": {},
   "outputs": [
    {
     "data": {
      "text/plain": [
       "(-4+0j)"
      ]
     },
     "execution_count": 7,
     "metadata": {},
     "output_type": "execute_result"
    }
   ],
   "source": [
    "(2j)**2 # en python elevar a la potencia se escribe con doble asterísco"
   ]
  },
  {
   "cell_type": "code",
   "execution_count": 8,
   "metadata": {},
   "outputs": [],
   "source": [
    "## para convertir entre tipos numericos utilizamos las funciones int, float, y complex"
   ]
  },
  {
   "cell_type": "code",
   "execution_count": 10,
   "metadata": {},
   "outputs": [
    {
     "data": {
      "text/plain": [
       "3.605551275463989"
      ]
     },
     "execution_count": 10,
     "metadata": {},
     "output_type": "execute_result"
    }
   ],
   "source": [
    "_5 #con esto recupero el resultado de la selda 10\n",
    "#con alt+enter ejecuto una celda y me genera una celda adiconal"
   ]
  },
  {
   "cell_type": "code",
   "execution_count": 11,
   "metadata": {},
   "outputs": [
    {
     "data": {
      "text/plain": [
       "3"
      ]
     },
     "execution_count": 11,
     "metadata": {},
     "output_type": "execute_result"
    }
   ],
   "source": [
    "int(_)#esta función sólo toma la parte entera,no redondea, la raya piso por defecto toma el resultado anterior"
   ]
  },
  {
   "cell_type": "code",
   "execution_count": 12,
   "metadata": {},
   "outputs": [
    {
     "data": {
      "text/plain": [
       "4"
      ]
     },
     "execution_count": 12,
     "metadata": {},
     "output_type": "execute_result"
    }
   ],
   "source": [
    "round(_10) # si quiero hacer un redondeo"
   ]
  },
  {
   "cell_type": "code",
   "execution_count": 13,
   "metadata": {},
   "outputs": [
    {
     "data": {
      "text/plain": [
       "4.0"
      ]
     },
     "execution_count": 13,
     "metadata": {},
     "output_type": "execute_result"
    }
   ],
   "source": [
    "float(_)#la función float convierte un entero en punto flotante"
   ]
  },
  {
   "cell_type": "code",
   "execution_count": 14,
   "metadata": {},
   "outputs": [
    {
     "data": {
      "text/plain": [
       "(4+0j)"
      ]
     },
     "execution_count": 14,
     "metadata": {},
     "output_type": "execute_result"
    }
   ],
   "source": [
    "complex(_)#convierte un número en número complejo"
   ]
  },
  {
   "cell_type": "code",
   "execution_count": 15,
   "metadata": {},
   "outputs": [
    {
     "ename": "TypeError",
     "evalue": "can't convert complex to int",
     "output_type": "error",
     "traceback": [
      "\u001b[1;31m---------------------------------------------------------------------------\u001b[0m",
      "\u001b[1;31mTypeError\u001b[0m                                 Traceback (most recent call last)",
      "\u001b[1;32m<ipython-input-15-964cff91ba99>\u001b[0m in \u001b[0;36m<module>\u001b[1;34m\u001b[0m\n\u001b[0;32m      1\u001b[0m \u001b[1;31m# el anterior resultado no se puede convertir en un entero\u001b[0m\u001b[1;33m\u001b[0m\u001b[1;33m\u001b[0m\u001b[1;33m\u001b[0m\u001b[0m\n\u001b[1;32m----> 2\u001b[1;33m \u001b[0mint\u001b[0m\u001b[1;33m(\u001b[0m\u001b[0m_\u001b[0m\u001b[1;33m)\u001b[0m\u001b[1;33m\u001b[0m\u001b[1;33m\u001b[0m\u001b[0m\n\u001b[0m",
      "\u001b[1;31mTypeError\u001b[0m: can't convert complex to int"
     ]
    }
   ],
   "source": [
    "# el anterior resultado no se puede convertir en un entero\n",
    "int(_)"
   ]
  },
  {
   "cell_type": "code",
   "execution_count": 16,
   "metadata": {},
   "outputs": [
    {
     "data": {
      "text/plain": [
       "2"
      ]
     },
     "execution_count": 16,
     "metadata": {},
     "output_type": "execute_result"
    }
   ],
   "source": [
    "max(0, -1, 1, 2) # con max dentro de una lista de números escoge el mayor"
   ]
  },
  {
   "cell_type": "code",
   "execution_count": 17,
   "metadata": {},
   "outputs": [
    {
     "ename": "TypeError",
     "evalue": "'builtin_function_or_method' object is not subscriptable",
     "output_type": "error",
     "traceback": [
      "\u001b[1;31m---------------------------------------------------------------------------\u001b[0m",
      "\u001b[1;31mTypeError\u001b[0m                                 Traceback (most recent call last)",
      "\u001b[1;32m<ipython-input-17-e17983ee4944>\u001b[0m in \u001b[0;36m<module>\u001b[1;34m\u001b[0m\n\u001b[1;32m----> 1\u001b[1;33m \u001b[0mmax\u001b[0m\u001b[1;33m[\u001b[0m\u001b[1;36m0\u001b[0m\u001b[1;33m,\u001b[0m \u001b[1;33m-\u001b[0m\u001b[1;36m1\u001b[0m\u001b[1;33m,\u001b[0m \u001b[1;36m2\u001b[0m\u001b[1;33m,\u001b[0m \u001b[1;36m3\u001b[0m\u001b[1;33m]\u001b[0m\u001b[1;33m\u001b[0m\u001b[1;33m\u001b[0m\u001b[0m\n\u001b[0m",
      "\u001b[1;31mTypeError\u001b[0m: 'builtin_function_or_method' object is not subscriptable"
     ]
    }
   ],
   "source": [
    "max[0, -1, 2, 3]"
   ]
  },
  {
   "cell_type": "code",
   "execution_count": 18,
   "metadata": {},
   "outputs": [
    {
     "data": {
      "text/plain": [
       "-4"
      ]
     },
     "execution_count": 18,
     "metadata": {},
     "output_type": "execute_result"
    }
   ],
   "source": [
    "min (0, -2, -4, 1) #haya el minimo de una lista"
   ]
  },
  {
   "cell_type": "markdown",
   "metadata": {},
   "source": [
    "## las funciones se llaman de la siguiente manera en Python:\n",
    "###los argumentos se encierran entre parentesis y se separan por comas"
   ]
  },
  {
   "cell_type": "markdown",
   "metadata": {},
   "source": [
    "## Asignación y operadores de comparación"
   ]
  },
  {
   "cell_type": "code",
   "execution_count": 19,
   "metadata": {},
   "outputs": [
    {
     "data": {
      "text/plain": [
       "(1+2j)"
      ]
     },
     "execution_count": 19,
     "metadata": {},
     "output_type": "execute_result"
    }
   ],
   "source": [
    "#la asignación de variables en python funciona con el operador \"=\"\n",
    "a = 1 + 2j\n",
    "a\n",
    "#la segunda linea es para que pyhton visualice el código o lo imprima"
   ]
  },
  {
   "cell_type": "code",
   "execution_count": 23,
   "metadata": {},
   "outputs": [
    {
     "data": {
      "text/plain": [
       "(1, 2)"
      ]
     },
     "execution_count": 23,
     "metadata": {},
     "output_type": "execute_result"
    }
   ],
   "source": [
    "# En python podemos asignar varios valores a la vez\n",
    "x, y = 1, 2\n",
    "x, y"
   ]
  },
  {
   "cell_type": "code",
   "execution_count": 24,
   "metadata": {},
   "outputs": [
    {
     "data": {
      "text/plain": [
       "(2, 1)"
      ]
     },
     "execution_count": 24,
     "metadata": {},
     "output_type": "execute_result"
    }
   ],
   "source": [
    "# intercambiar valores de variables\n",
    "x, y = y, x\n",
    "x, y"
   ]
  },
  {
   "cell_type": "markdown",
   "metadata": {},
   "source": [
    "# El Zen de python"
   ]
  },
  {
   "cell_type": "code",
   "execution_count": 26,
   "metadata": {},
   "outputs": [
    {
     "name": "stdout",
     "output_type": "stream",
     "text": [
      "The Zen of Python, by Tim Peters\n",
      "\n",
      "Beautiful is better than ugly.\n",
      "Explicit is better than implicit.\n",
      "Simple is better than complex.\n",
      "Complex is better than complicated.\n",
      "Flat is better than nested.\n",
      "Sparse is better than dense.\n",
      "Readability counts.\n",
      "Special cases aren't special enough to break the rules.\n",
      "Although practicality beats purity.\n",
      "Errors should never pass silently.\n",
      "Unless explicitly silenced.\n",
      "In the face of ambiguity, refuse the temptation to guess.\n",
      "There should be one-- and preferably only one --obvious way to do it.\n",
      "Although that way may not be obvious at first unless you're Dutch.\n",
      "Now is better than never.\n",
      "Although never is often better than *right* now.\n",
      "If the implementation is hard to explain, it's a bad idea.\n",
      "If the implementation is easy to explain, it may be a good idea.\n",
      "Namespaces are one honking great idea -- let's do more of those!\n"
     ]
    }
   ],
   "source": [
    "import this"
   ]
  },
  {
   "cell_type": "markdown",
   "metadata": {},
   "source": [
    "### Operadores de compación"
   ]
  },
  {
   "cell_type": "code",
   "execution_count": 28,
   "metadata": {},
   "outputs": [
    {
     "name": "stdout",
     "output_type": "stream",
     "text": [
      "True\n"
     ]
    }
   ],
   "source": [
    "# No hay que confundir el operador de asignación \"=\" con el operador de comparción \"==\" puede acarrear errores que en principio podrian sr dificiles de encontrar\n",
    "x, y = 1, 2\n",
    "print(x != y) # comparador x distinto de y"
   ]
  },
  {
   "cell_type": "code",
   "execution_count": 29,
   "metadata": {},
   "outputs": [
    {
     "name": "stdout",
     "output_type": "stream",
     "text": [
      "False\n"
     ]
    }
   ],
   "source": [
    "print(x==y) #x igual que y"
   ]
  },
  {
   "cell_type": "code",
   "execution_count": 30,
   "metadata": {},
   "outputs": [
    {
     "name": "stdout",
     "output_type": "stream",
     "text": [
      "True\n",
      "False\n",
      "True\n",
      "False\n"
     ]
    }
   ],
   "source": [
    "print(x<y)\n",
    "print(x>y)\n",
    "print(x<=y)\n",
    "print(x>=y)"
   ]
  },
  {
   "cell_type": "markdown",
   "metadata": {},
   "source": [
    "### Estructuras de control\n",
    "#### Son if, Elif, Else"
   ]
  },
  {
   "cell_type": "code",
   "execution_count": 31,
   "metadata": {},
   "outputs": [
    {
     "name": "stdout",
     "output_type": "stream",
     "text": [
      "x es menor y\n"
     ]
    }
   ],
   "source": [
    "if x < y:\n",
    "    print(\"x es menor y\")"
   ]
  },
  {
   "cell_type": "code",
   "execution_count": 32,
   "metadata": {},
   "outputs": [
    {
     "name": "stdout",
     "output_type": "stream",
     "text": [
      "x es menor y\n"
     ]
    }
   ],
   "source": [
    "if x < y:\n",
    "    print(\"x es menor y\")\n",
    "elif x==y:\n",
    "    print(\"x es igual a y\")\n",
    "else:\n",
    "    print(\"x no es ni menor ni igual a y\")"
   ]
  },
  {
   "cell_type": "markdown",
   "metadata": {},
   "source": [
    "### Bucles"
   ]
  },
  {
   "cell_type": "code",
   "execution_count": 4,
   "metadata": {},
   "outputs": [
    {
     "name": "stdout",
     "output_type": "stream",
     "text": [
      "0\n",
      "1\n",
      "2\n",
      "3\n",
      "4\n",
      "humano, la iteración ha llegado hasta el final\n"
     ]
    }
   ],
   "source": [
    "ii=0\n",
    "while ii<5:\n",
    "    print(ii)\n",
    "    #ii = ii + 1\n",
    "    ii += 1\n",
    "    #if ii == 3:\n",
    "        #break #me detiene el bucle cuando ii llega a el valor de 3\n",
    "else:\n",
    "    print(\"humano, la iteración ha llegado hasta el final\")"
   ]
  },
  {
   "cell_type": "markdown",
   "metadata": {},
   "source": [
    "#### Bucle for:"
   ]
  },
  {
   "cell_type": "code",
   "execution_count": 5,
   "metadata": {},
   "outputs": [
    {
     "name": "stdout",
     "output_type": "stream",
     "text": [
      "1\n",
      "0\n",
      "7\n"
     ]
    }
   ],
   "source": [
    "for ii in 1, 0, 7: # \"por cada elemento en ese conjunto\", a cada uno de esos elementos lo estoy nombrando como \"ii\"\n",
    "    print(ii)"
   ]
  },
  {
   "cell_type": "code",
   "execution_count": 7,
   "metadata": {},
   "outputs": [
    {
     "name": "stdout",
     "output_type": "stream",
     "text": [
      "Armando\n",
      "José\n",
      "Mando\n"
     ]
    }
   ],
   "source": [
    "for nombre in \"Armando\", \"José\", \"Mando\":\n",
    "    print(nombre)\n"
   ]
  },
  {
   "cell_type": "code",
   "execution_count": 14,
   "metadata": {},
   "outputs": [
    {
     "name": "stdout",
     "output_type": "stream",
     "text": [
      "1\n",
      "0\n",
      "2\n",
      "8\n",
      "humano, la iteración ha llegado hasta el final\n"
     ]
    }
   ],
   "source": [
    "for ii in 1, 0, 2, 8:\n",
    "    print(ii)\n",
    "    #if ii==2:\n",
    "        #break. \"pass\" tambien se puede usar en este caso. No hace nada solo \"deja pasar\" y se utiliza para completar el código\n",
    "else:\n",
    "    print(\"humano, la iteración ha llegado hasta el final\")"
   ]
  },
  {
   "cell_type": "markdown",
   "metadata": {},
   "source": [
    "#### Otros tipo de datos "
   ]
  },
  {
   "cell_type": "code",
   "execution_count": 15,
   "metadata": {},
   "outputs": [],
   "source": [
    "# En payton hay dos tipos de secuencias que se utilizan en los bucles: Las listas y las tuples."
   ]
  },
  {
   "cell_type": "code",
   "execution_count": 25,
   "metadata": {},
   "outputs": [
    {
     "data": {
      "text/plain": [
       "(1, 2, 3.0, (4+0j), 'mando')"
      ]
     },
     "execution_count": 25,
     "metadata": {},
     "output_type": "execute_result"
    }
   ],
   "source": [
    "una_tupla = (1, 2, 3.0, 4+0j, \"mando\")# las tuplas son los datos entre parentesis\n",
    "una_tupla"
   ]
  },
  {
   "cell_type": "code",
   "execution_count": 26,
   "metadata": {},
   "outputs": [
    {
     "data": {
      "text/plain": [
       "[1, 2, 3.0, (4+0j), 'mando']"
      ]
     },
     "execution_count": 26,
     "metadata": {},
     "output_type": "execute_result"
    }
   ],
   "source": [
    "una_lista = [1, 2, 3.0, (4+0j), 'mando']\n",
    "una_lista"
   ]
  },
  {
   "cell_type": "code",
   "execution_count": 27,
   "metadata": {},
   "outputs": [
    {
     "data": {
      "text/plain": [
       "True"
      ]
     },
     "execution_count": 27,
     "metadata": {},
     "output_type": "execute_result"
    }
   ],
   "source": [
    "una_tupla != una_lista #a pesar que tienen los mismos elementos, no son el mismo tipo de dato"
   ]
  },
  {
   "cell_type": "code",
   "execution_count": 28,
   "metadata": {},
   "outputs": [
    {
     "name": "stdout",
     "output_type": "stream",
     "text": [
      "1\n",
      "2\n",
      "3.0\n",
      "(4+0j)\n",
      "mando\n"
     ]
    }
   ],
   "source": [
    "for elemento in una_tupla:\n",
    "    print(elemento)"
   ]
  },
  {
   "cell_type": "code",
   "execution_count": 29,
   "metadata": {},
   "outputs": [
    {
     "data": {
      "text/plain": [
       "True"
      ]
     },
     "execution_count": 29,
     "metadata": {},
     "output_type": "execute_result"
    }
   ],
   "source": [
    "\"mando\" in una_tupla #le estoy preguntando si ese elemento está dentro del conjunto \"una tupla\""
   ]
  },
  {
   "cell_type": "code",
   "execution_count": 30,
   "metadata": {},
   "outputs": [
    {
     "data": {
      "text/plain": [
       "(4+0j)"
      ]
     },
     "execution_count": 30,
     "metadata": {},
     "output_type": "execute_result"
    }
   ],
   "source": [
    "#puedo imprimir un elemento de un conjunto, aplicandole \"[]\" e inscribiendo el indice correspondiente al elemento\n",
    "#que quiero imprimir\n",
    "# los corchetes \"[]\" indican que dentro de ellos se debe escribir el indice, estos indices se enumeran desde cero\n",
    "#los corchetes no tienen nada que ver si es tuple o lista\n",
    "una_lista[3]"
   ]
  },
  {
   "cell_type": "code",
   "execution_count": 36,
   "metadata": {},
   "outputs": [
    {
     "name": "stdout",
     "output_type": "stream",
     "text": [
      "mando\n",
      "(4+0j)\n",
      "3.0\n",
      "2\n",
      "1\n"
     ]
    }
   ],
   "source": [
    "#puedo empezar la indexación desde atrás hacia el primer elemento con el número -1\n",
    "#como se verá se imprimirá desde el último hacia el primero\n",
    "# las tuples y las listas se pueden indexar\n",
    "x=-1\n",
    "for elemento in una_lista:\n",
    "    print (una_lista[x])\n",
    "    x += -1 #esto es lo mismo que x = x - 1\n",
    "    if x == -6:\n",
    "        break"
   ]
  },
  {
   "cell_type": "code",
   "execution_count": 37,
   "metadata": {},
   "outputs": [
    {
     "name": "stdout",
     "output_type": "stream",
     "text": [
      "[1, 2, 3.0]\n"
     ]
    }
   ],
   "source": [
    "#puedo tomar una forma parcial de los indices correspondientes al conjunto\n",
    "print(una_lista[0:3])"
   ]
  },
  {
   "cell_type": "code",
   "execution_count": 39,
   "metadata": {},
   "outputs": [
    {
     "data": {
      "text/plain": [
       "[[1, 2], [3, 4]]"
      ]
     },
     "execution_count": 39,
     "metadata": {},
     "output_type": "execute_result"
    }
   ],
   "source": [
    "#unas listas pueden contener otras listas: listas anidadas\n",
    "lista_anidada = [[1, 2], [3, 4]]\n",
    "lista_anidada\n"
   ]
  },
  {
   "cell_type": "code",
   "execution_count": 42,
   "metadata": {},
   "outputs": [
    {
     "data": {
      "text/plain": [
       "[[1, 2], [3, 4]]"
      ]
     },
     "execution_count": 42,
     "metadata": {},
     "output_type": "execute_result"
    }
   ],
   "source": [
    "lista_anidad = [\n",
    "    [1, 2],\n",
    "    [3, 4]\n",
    "]\n",
    "lista_anidad"
   ]
  },
  {
   "cell_type": "code",
   "execution_count": 43,
   "metadata": {},
   "outputs": [
    {
     "data": {
      "text/plain": [
       "3"
      ]
     },
     "execution_count": 43,
     "metadata": {},
     "output_type": "execute_result"
    }
   ],
   "source": [
    "lista_anidad [1][0]#está tomando el segundo elemento (es decir la segunda lista), interna\n",
    "                   # y el primer elemento de esta lista, es decir el 3"
   ]
  },
  {
   "cell_type": "markdown",
   "metadata": {},
   "source": [
    "### Definición de funciones en Python\n"
   ]
  },
  {
   "cell_type": "code",
   "execution_count": 49,
   "metadata": {},
   "outputs": [],
   "source": [
    "def función (x, y):\n",
    "    z = x + y\n",
    "    print(z)"
   ]
  },
  {
   "cell_type": "code",
   "execution_count": 50,
   "metadata": {},
   "outputs": [
    {
     "data": {
      "text/plain": [
       "<function __main__.función(x, y)>"
      ]
     },
     "execution_count": 50,
     "metadata": {},
     "output_type": "execute_result"
    }
   ],
   "source": [
    "función"
   ]
  },
  {
   "cell_type": "code",
   "execution_count": 51,
   "metadata": {},
   "outputs": [
    {
     "name": "stdout",
     "output_type": "stream",
     "text": [
      "11\n"
     ]
    }
   ],
   "source": [
    "función(3, 8)"
   ]
  },
  {
   "cell_type": "code",
   "execution_count": 4,
   "metadata": {},
   "outputs": [],
   "source": [
    "def al_cuadrado(x):\n",
    "    '''función que eleva un número al cuadrado'''\n",
    "    y = x**2\n",
    "    return y #parece que return hace lo mismo que: print (y)\n",
    "    "
   ]
  },
  {
   "cell_type": "code",
   "execution_count": 6,
   "metadata": {},
   "outputs": [
    {
     "name": "stdout",
     "output_type": "stream",
     "text": [
      "9\n"
     ]
    }
   ],
   "source": [
    "al_cuadrado(3)"
   ]
  },
  {
   "cell_type": "code",
   "execution_count": 7,
   "metadata": {},
   "outputs": [],
   "source": [
    "#en una función puedo establecer valores por defectos\n",
    "def multiplica (x=1.0, y=1.0):\n",
    "    '''multiplica dos números, por defecto ambos son 1'''\n",
    "    z = x*y\n",
    "    return z"
   ]
  },
  {
   "cell_type": "code",
   "execution_count": 8,
   "metadata": {},
   "outputs": [
    {
     "data": {
      "text/plain": [
       "1.0"
      ]
     },
     "execution_count": 8,
     "metadata": {},
     "output_type": "execute_result"
    }
   ],
   "source": [
    "multiplica ()"
   ]
  },
  {
   "cell_type": "code",
   "execution_count": 10,
   "metadata": {},
   "outputs": [
    {
     "data": {
      "text/plain": [
       "6"
      ]
     },
     "execution_count": 10,
     "metadata": {},
     "output_type": "execute_result"
    }
   ],
   "source": [
    "multiplica(3,2)"
   ]
  },
  {
   "cell_type": "code",
   "execution_count": 20,
   "metadata": {},
   "outputs": [
    {
     "name": "stdout",
     "output_type": "stream",
     "text": [
      "0\n",
      "1\n",
      "2\n",
      "3\n",
      "4\n",
      "5\n",
      "6\n",
      "7\n",
      "8\n",
      "9\n",
      "10\n",
      "11\n",
      "12\n",
      "13\n",
      "14\n",
      "15\n",
      "16\n",
      "17\n",
      "18\n",
      "19\n"
     ]
    }
   ],
   "source": [
    "x = 20\n",
    "for ii in range (x):#la función rango por defecto imprime desde 0 \n",
    "    print(ii)       #y no imprime el último número, es decir, el valor de x\n",
    "    "
   ]
  },
  {
   "cell_type": "code",
   "execution_count": 19,
   "metadata": {},
   "outputs": [
    {
     "name": "stdout",
     "output_type": "stream",
     "text": [
      "1\n",
      "2\n",
      "3\n",
      "4\n",
      "5\n",
      "6\n",
      "7\n",
      "8\n",
      "9\n",
      "10\n",
      "11\n",
      "12\n",
      "13\n",
      "14\n",
      "15\n",
      "16\n",
      "17\n",
      "18\n",
      "19\n"
     ]
    }
   ],
   "source": [
    "x = 20\n",
    "for ii in range (1, x):#puedo empezar desde el número que desee asignando un valor al primer argumento\n",
    "    print(ii)"
   ]
  },
  {
   "cell_type": "code",
   "execution_count": 21,
   "metadata": {},
   "outputs": [
    {
     "name": "stdout",
     "output_type": "stream",
     "text": [
      "1\n",
      "2\n",
      "3\n",
      "4\n",
      "5\n",
      "6\n",
      "7\n",
      "8\n",
      "9\n",
      "10\n",
      "11\n",
      "12\n",
      "13\n",
      "14\n",
      "15\n",
      "16\n",
      "17\n",
      "18\n",
      "19\n",
      "20\n"
     ]
    }
   ],
   "source": [
    "x = 20\n",
    "for ii in range (1, x+1):#si quiero imprimir el valor de x\n",
    "    print(ii)"
   ]
  },
  {
   "cell_type": "code",
   "execution_count": 23,
   "metadata": {},
   "outputs": [
    {
     "data": {
      "text/plain": [
       "1"
      ]
     },
     "execution_count": 23,
     "metadata": {},
     "output_type": "execute_result"
    }
   ],
   "source": [
    "5%2#el módulo de una divisón se halla con %, el módulo es la parte restante, lo que queda despues de dividir"
   ]
  },
  {
   "cell_type": "code",
   "execution_count": 25,
   "metadata": {},
   "outputs": [
    {
     "name": "stdout",
     "output_type": "stream",
     "text": [
      "el número es múltiplo de 3\n",
      "1\n",
      "2\n",
      "el número es múltiplo de 3\n",
      "4\n",
      "el número es múltiplo de 5\n",
      "el número es múltiplo de 3\n",
      "7\n"
     ]
    }
   ],
   "source": [
    "def foo (x):\n",
    "    for ii in range (x):\n",
    "        if ii % 3 ==0:\n",
    "            print(\"el número es múltiplo de 3\")\n",
    "        elif ii % 5 ==0:\n",
    "            print(\"el número es múltiplo de 5\")\n",
    "        else:\n",
    "            print (ii)\n",
    "foo (8)"
   ]
  },
  {
   "cell_type": "code",
   "execution_count": 1,
   "metadata": {},
   "outputs": [
    {
     "ename": "ModuleNotFoundError",
     "evalue": "No module named 'pep8magic #llamo una cosa que me sirve para seguir la convenciones de escritura en python'",
     "output_type": "error",
     "traceback": [
      "\u001b[1;31m---------------------------------------------------------------------------\u001b[0m",
      "\u001b[1;31mModuleNotFoundError\u001b[0m                       Traceback (most recent call last)",
      "\u001b[1;32m<ipython-input-1-7ab07fed17e7>\u001b[0m in \u001b[0;36m<module>\u001b[1;34m\u001b[0m\n\u001b[1;32m----> 1\u001b[1;33m \u001b[0mget_ipython\u001b[0m\u001b[1;33m(\u001b[0m\u001b[1;33m)\u001b[0m\u001b[1;33m.\u001b[0m\u001b[0mrun_line_magic\u001b[0m\u001b[1;33m(\u001b[0m\u001b[1;34m'load_ext'\u001b[0m\u001b[1;33m,\u001b[0m \u001b[1;34m'pep8magic #llamo una cosa que me sirve para seguir la convenciones de escritura en python'\u001b[0m\u001b[1;33m)\u001b[0m\u001b[1;33m\u001b[0m\u001b[1;33m\u001b[0m\u001b[0m\n\u001b[0m",
      "\u001b[1;32mD:\\ARMANDOR\\anaconda\\lib\\site-packages\\IPython\\core\\interactiveshell.py\u001b[0m in \u001b[0;36mrun_line_magic\u001b[1;34m(self, magic_name, line, _stack_depth)\u001b[0m\n\u001b[0;32m   2315\u001b[0m                 \u001b[0mkwargs\u001b[0m\u001b[1;33m[\u001b[0m\u001b[1;34m'local_ns'\u001b[0m\u001b[1;33m]\u001b[0m \u001b[1;33m=\u001b[0m \u001b[0msys\u001b[0m\u001b[1;33m.\u001b[0m\u001b[0m_getframe\u001b[0m\u001b[1;33m(\u001b[0m\u001b[0mstack_depth\u001b[0m\u001b[1;33m)\u001b[0m\u001b[1;33m.\u001b[0m\u001b[0mf_locals\u001b[0m\u001b[1;33m\u001b[0m\u001b[1;33m\u001b[0m\u001b[0m\n\u001b[0;32m   2316\u001b[0m             \u001b[1;32mwith\u001b[0m \u001b[0mself\u001b[0m\u001b[1;33m.\u001b[0m\u001b[0mbuiltin_trap\u001b[0m\u001b[1;33m:\u001b[0m\u001b[1;33m\u001b[0m\u001b[1;33m\u001b[0m\u001b[0m\n\u001b[1;32m-> 2317\u001b[1;33m                 \u001b[0mresult\u001b[0m \u001b[1;33m=\u001b[0m \u001b[0mfn\u001b[0m\u001b[1;33m(\u001b[0m\u001b[1;33m*\u001b[0m\u001b[0margs\u001b[0m\u001b[1;33m,\u001b[0m \u001b[1;33m**\u001b[0m\u001b[0mkwargs\u001b[0m\u001b[1;33m)\u001b[0m\u001b[1;33m\u001b[0m\u001b[1;33m\u001b[0m\u001b[0m\n\u001b[0m\u001b[0;32m   2318\u001b[0m             \u001b[1;32mreturn\u001b[0m \u001b[0mresult\u001b[0m\u001b[1;33m\u001b[0m\u001b[1;33m\u001b[0m\u001b[0m\n\u001b[0;32m   2319\u001b[0m \u001b[1;33m\u001b[0m\u001b[0m\n",
      "\u001b[1;32m<D:\\ARMANDOR\\anaconda\\lib\\site-packages\\decorator.py:decorator-gen-65>\u001b[0m in \u001b[0;36mload_ext\u001b[1;34m(self, module_str)\u001b[0m\n",
      "\u001b[1;32mD:\\ARMANDOR\\anaconda\\lib\\site-packages\\IPython\\core\\magic.py\u001b[0m in \u001b[0;36m<lambda>\u001b[1;34m(f, *a, **k)\u001b[0m\n\u001b[0;32m    185\u001b[0m     \u001b[1;31m# but it's overkill for just that one bit of state.\u001b[0m\u001b[1;33m\u001b[0m\u001b[1;33m\u001b[0m\u001b[1;33m\u001b[0m\u001b[0m\n\u001b[0;32m    186\u001b[0m     \u001b[1;32mdef\u001b[0m \u001b[0mmagic_deco\u001b[0m\u001b[1;33m(\u001b[0m\u001b[0marg\u001b[0m\u001b[1;33m)\u001b[0m\u001b[1;33m:\u001b[0m\u001b[1;33m\u001b[0m\u001b[1;33m\u001b[0m\u001b[0m\n\u001b[1;32m--> 187\u001b[1;33m         \u001b[0mcall\u001b[0m \u001b[1;33m=\u001b[0m \u001b[1;32mlambda\u001b[0m \u001b[0mf\u001b[0m\u001b[1;33m,\u001b[0m \u001b[1;33m*\u001b[0m\u001b[0ma\u001b[0m\u001b[1;33m,\u001b[0m \u001b[1;33m**\u001b[0m\u001b[0mk\u001b[0m\u001b[1;33m:\u001b[0m \u001b[0mf\u001b[0m\u001b[1;33m(\u001b[0m\u001b[1;33m*\u001b[0m\u001b[0ma\u001b[0m\u001b[1;33m,\u001b[0m \u001b[1;33m**\u001b[0m\u001b[0mk\u001b[0m\u001b[1;33m)\u001b[0m\u001b[1;33m\u001b[0m\u001b[1;33m\u001b[0m\u001b[0m\n\u001b[0m\u001b[0;32m    188\u001b[0m \u001b[1;33m\u001b[0m\u001b[0m\n\u001b[0;32m    189\u001b[0m         \u001b[1;32mif\u001b[0m \u001b[0mcallable\u001b[0m\u001b[1;33m(\u001b[0m\u001b[0marg\u001b[0m\u001b[1;33m)\u001b[0m\u001b[1;33m:\u001b[0m\u001b[1;33m\u001b[0m\u001b[1;33m\u001b[0m\u001b[0m\n",
      "\u001b[1;32mD:\\ARMANDOR\\anaconda\\lib\\site-packages\\IPython\\core\\magics\\extension.py\u001b[0m in \u001b[0;36mload_ext\u001b[1;34m(self, module_str)\u001b[0m\n\u001b[0;32m     31\u001b[0m         \u001b[1;32mif\u001b[0m \u001b[1;32mnot\u001b[0m \u001b[0mmodule_str\u001b[0m\u001b[1;33m:\u001b[0m\u001b[1;33m\u001b[0m\u001b[1;33m\u001b[0m\u001b[0m\n\u001b[0;32m     32\u001b[0m             \u001b[1;32mraise\u001b[0m \u001b[0mUsageError\u001b[0m\u001b[1;33m(\u001b[0m\u001b[1;34m'Missing module name.'\u001b[0m\u001b[1;33m)\u001b[0m\u001b[1;33m\u001b[0m\u001b[1;33m\u001b[0m\u001b[0m\n\u001b[1;32m---> 33\u001b[1;33m         \u001b[0mres\u001b[0m \u001b[1;33m=\u001b[0m \u001b[0mself\u001b[0m\u001b[1;33m.\u001b[0m\u001b[0mshell\u001b[0m\u001b[1;33m.\u001b[0m\u001b[0mextension_manager\u001b[0m\u001b[1;33m.\u001b[0m\u001b[0mload_extension\u001b[0m\u001b[1;33m(\u001b[0m\u001b[0mmodule_str\u001b[0m\u001b[1;33m)\u001b[0m\u001b[1;33m\u001b[0m\u001b[1;33m\u001b[0m\u001b[0m\n\u001b[0m\u001b[0;32m     34\u001b[0m \u001b[1;33m\u001b[0m\u001b[0m\n\u001b[0;32m     35\u001b[0m         \u001b[1;32mif\u001b[0m \u001b[0mres\u001b[0m \u001b[1;33m==\u001b[0m \u001b[1;34m'already loaded'\u001b[0m\u001b[1;33m:\u001b[0m\u001b[1;33m\u001b[0m\u001b[1;33m\u001b[0m\u001b[0m\n",
      "\u001b[1;32mD:\\ARMANDOR\\anaconda\\lib\\site-packages\\IPython\\core\\extensions.py\u001b[0m in \u001b[0;36mload_extension\u001b[1;34m(self, module_str)\u001b[0m\n\u001b[0;32m     78\u001b[0m             \u001b[1;32mif\u001b[0m \u001b[0mmodule_str\u001b[0m \u001b[1;32mnot\u001b[0m \u001b[1;32min\u001b[0m \u001b[0msys\u001b[0m\u001b[1;33m.\u001b[0m\u001b[0mmodules\u001b[0m\u001b[1;33m:\u001b[0m\u001b[1;33m\u001b[0m\u001b[1;33m\u001b[0m\u001b[0m\n\u001b[0;32m     79\u001b[0m                 \u001b[1;32mwith\u001b[0m \u001b[0mprepended_to_syspath\u001b[0m\u001b[1;33m(\u001b[0m\u001b[0mself\u001b[0m\u001b[1;33m.\u001b[0m\u001b[0mipython_extension_dir\u001b[0m\u001b[1;33m)\u001b[0m\u001b[1;33m:\u001b[0m\u001b[1;33m\u001b[0m\u001b[1;33m\u001b[0m\u001b[0m\n\u001b[1;32m---> 80\u001b[1;33m                     \u001b[0mmod\u001b[0m \u001b[1;33m=\u001b[0m \u001b[0mimport_module\u001b[0m\u001b[1;33m(\u001b[0m\u001b[0mmodule_str\u001b[0m\u001b[1;33m)\u001b[0m\u001b[1;33m\u001b[0m\u001b[1;33m\u001b[0m\u001b[0m\n\u001b[0m\u001b[0;32m     81\u001b[0m                     \u001b[1;32mif\u001b[0m \u001b[0mmod\u001b[0m\u001b[1;33m.\u001b[0m\u001b[0m__file__\u001b[0m\u001b[1;33m.\u001b[0m\u001b[0mstartswith\u001b[0m\u001b[1;33m(\u001b[0m\u001b[0mself\u001b[0m\u001b[1;33m.\u001b[0m\u001b[0mipython_extension_dir\u001b[0m\u001b[1;33m)\u001b[0m\u001b[1;33m:\u001b[0m\u001b[1;33m\u001b[0m\u001b[1;33m\u001b[0m\u001b[0m\n\u001b[0;32m     82\u001b[0m                         print((\"Loading extensions from {dir} is deprecated. \"\n",
      "\u001b[1;32mD:\\ARMANDOR\\anaconda\\lib\\importlib\\__init__.py\u001b[0m in \u001b[0;36mimport_module\u001b[1;34m(name, package)\u001b[0m\n\u001b[0;32m    125\u001b[0m                 \u001b[1;32mbreak\u001b[0m\u001b[1;33m\u001b[0m\u001b[1;33m\u001b[0m\u001b[0m\n\u001b[0;32m    126\u001b[0m             \u001b[0mlevel\u001b[0m \u001b[1;33m+=\u001b[0m \u001b[1;36m1\u001b[0m\u001b[1;33m\u001b[0m\u001b[1;33m\u001b[0m\u001b[0m\n\u001b[1;32m--> 127\u001b[1;33m     \u001b[1;32mreturn\u001b[0m \u001b[0m_bootstrap\u001b[0m\u001b[1;33m.\u001b[0m\u001b[0m_gcd_import\u001b[0m\u001b[1;33m(\u001b[0m\u001b[0mname\u001b[0m\u001b[1;33m[\u001b[0m\u001b[0mlevel\u001b[0m\u001b[1;33m:\u001b[0m\u001b[1;33m]\u001b[0m\u001b[1;33m,\u001b[0m \u001b[0mpackage\u001b[0m\u001b[1;33m,\u001b[0m \u001b[0mlevel\u001b[0m\u001b[1;33m)\u001b[0m\u001b[1;33m\u001b[0m\u001b[1;33m\u001b[0m\u001b[0m\n\u001b[0m\u001b[0;32m    128\u001b[0m \u001b[1;33m\u001b[0m\u001b[0m\n\u001b[0;32m    129\u001b[0m \u001b[1;33m\u001b[0m\u001b[0m\n",
      "\u001b[1;32mD:\\ARMANDOR\\anaconda\\lib\\importlib\\_bootstrap.py\u001b[0m in \u001b[0;36m_gcd_import\u001b[1;34m(name, package, level)\u001b[0m\n",
      "\u001b[1;32mD:\\ARMANDOR\\anaconda\\lib\\importlib\\_bootstrap.py\u001b[0m in \u001b[0;36m_find_and_load\u001b[1;34m(name, import_)\u001b[0m\n",
      "\u001b[1;32mD:\\ARMANDOR\\anaconda\\lib\\importlib\\_bootstrap.py\u001b[0m in \u001b[0;36m_find_and_load_unlocked\u001b[1;34m(name, import_)\u001b[0m\n",
      "\u001b[1;31mModuleNotFoundError\u001b[0m: No module named 'pep8magic #llamo una cosa que me sirve para seguir la convenciones de escritura en python'"
     ]
    }
   ],
   "source": [
    "%load_ext pep8magic #llamo una cosa que me sirve para seguir la convenciones de escritura en python"
   ]
  },
  {
   "cell_type": "markdown",
   "metadata": {},
   "source": [
    "## numpy es como un paquete matematico de algebra lineal \n",
    "### Aquí se hablan de Array que son como especies de listas de Python"
   ]
  },
  {
   "cell_type": "code",
   "execution_count": 2,
   "metadata": {},
   "outputs": [],
   "source": [
    "import numpy"
   ]
  },
  {
   "cell_type": "code",
   "execution_count": 3,
   "metadata": {},
   "outputs": [
    {
     "data": {
      "text/plain": [
       "<function numpy.linalg.norm(x, ord=None, axis=None, keepdims=False)>"
      ]
     },
     "execution_count": 3,
     "metadata": {},
     "output_type": "execute_result"
    }
   ],
   "source": [
    "numpy.linalg.norm\n"
   ]
  },
  {
   "cell_type": "code",
   "execution_count": 4,
   "metadata": {},
   "outputs": [],
   "source": [
    "import numpy as np # con esto se hace más facil invocar las funcionalidades de Numpy\n",
    "                   # ahora solo habrá que escribir \"np.(a quí va el nombre de la función)\"\""
   ]
  },
  {
   "cell_type": "code",
   "execution_count": 6,
   "metadata": {},
   "outputs": [
    {
     "name": "stdout",
     "output_type": "stream",
     "text": [
      "Search results for 'solve'\n",
      "--------------------------\n",
      "numpy.linalg.solve\n",
      "    Solve a linear matrix equation, or system of linear scalar equations.\n",
      "numpy.linalg.lstsq\n",
      "    Return the least-squares solution to a linear matrix equation.\n",
      "numpy.linalg.tensorsolve\n",
      "    Solve the tensor equation ``a x = b`` for x.\n",
      "numpy.nditer.close\n",
      "    close()\n",
      "numpy.linalg._umath_linalg.solve\n",
      "    solve the system a x = b, on the last two dimensions, broadcast to the rest.\n",
      "numpy.linalg._umath_linalg.solve1\n",
      "    solve the system a x = b, for b being a vector, broadcast in the outer dimensions.\n",
      "numpy.distutils.misc_util.njoin\n",
      "    Join two or more pathname components +\n",
      "numpy.distutils.misc_util.minrelpath\n",
      "    Resolve `..` and '.' from path.\n",
      "numpy.distutils.system_info.UmfpackNotFoundError\n",
      "    UMFPACK sparse solver (https://www.cise.ufl.edu/research/sparse/umfpack/)\n",
      "numpy.shares_memory\n",
      "    Determine if two arrays share memory\n",
      "numpy.linalg.pinv\n",
      "    Compute the (Moore-Penrose) pseudo-inverse of a matrix.\n",
      "numpy.linalg.cholesky\n",
      "    Cholesky decomposition.\n",
      "numpy.linalg.tensorinv\n",
      "    Compute the 'inverse' of an N-dimensional array.\n",
      "numpy.chararray.setflags\n",
      "    Set array flags WRITEABLE, ALIGNED, (WRITEBACKIFCOPY and UPDATEIFCOPY),\n",
      "numpy.linalg.LinAlgError\n",
      "    Generic Python-exception-derived object raised by linalg functions.\n",
      "numpy.core._internal.recursive\n",
      "    A decorator class for recursive nested functions.\n",
      "numpy.polynomial.Hermite._fit\n",
      "    Least squares fit of Hermite series to data.\n",
      "numpy.polynomial.HermiteE._fit\n",
      "    Least squares fit of Hermite series to data.\n",
      "numpy.polynomial.Laguerre._fit\n",
      "    Least squares fit of Laguerre series to data.\n",
      "numpy.polynomial.Legendre._fit\n",
      "    Least squares fit of Legendre series to data.\n",
      "numpy.polynomial.Chebyshev._fit\n",
      "    Least squares fit of Chebyshev series to data.\n",
      "numpy.polynomial.Polynomial._fit\n",
      "    Least-squares fit of a polynomial to data.\n",
      "numpy.core._multiarray_umath.shares_memory\n",
      "    Determine if two arrays share memory"
     ]
    }
   ],
   "source": [
    "np.lookfor(\"solve\")#si quiero ayuda ejecuto \"lookfor\""
   ]
  },
  {
   "cell_type": "markdown",
   "metadata": {},
   "source": [
    "### Constantes y funciones matemáticas en Numpy"
   ]
  },
  {
   "cell_type": "code",
   "execution_count": 7,
   "metadata": {},
   "outputs": [
    {
     "data": {
      "text/plain": [
       "2.718281828459045"
      ]
     },
     "execution_count": 7,
     "metadata": {},
     "output_type": "execute_result"
    }
   ],
   "source": [
    "np.e"
   ]
  },
  {
   "cell_type": "code",
   "execution_count": 8,
   "metadata": {},
   "outputs": [
    {
     "data": {
      "text/plain": [
       "3.141592653589793"
      ]
     },
     "execution_count": 8,
     "metadata": {},
     "output_type": "execute_result"
    }
   ],
   "source": [
    "np.pi"
   ]
  },
  {
   "cell_type": "code",
   "execution_count": 9,
   "metadata": {},
   "outputs": [
    {
     "data": {
      "text/plain": [
       "0.6931471805599453"
      ]
     },
     "execution_count": 9,
     "metadata": {},
     "output_type": "execute_result"
    }
   ],
   "source": [
    "np.log(2)"
   ]
  },
  {
   "cell_type": "code",
   "execution_count": 10,
   "metadata": {},
   "outputs": [
    {
     "data": {
      "text/plain": [
       "array([1, 2, 3])"
      ]
     },
     "execution_count": 10,
     "metadata": {},
     "output_type": "execute_result"
    }
   ],
   "source": [
    "#una array es una secuencia de n elementos\n",
    "np.array([1, 2, 3])"
   ]
  },
  {
   "cell_type": "code",
   "execution_count": 12,
   "metadata": {},
   "outputs": [
    {
     "data": {
      "text/plain": [
       "array([1., 2., 3.])"
      ]
     },
     "execution_count": 12,
     "metadata": {},
     "output_type": "execute_result"
    }
   ],
   "source": [
    "#la array intenta homogenizar sus valores\n",
    "np.array([1, 2, 3.0])"
   ]
  },
  {
   "cell_type": "code",
   "execution_count": 15,
   "metadata": {},
   "outputs": [
    {
     "name": "stdout",
     "output_type": "stream",
     "text": [
      "float64\n"
     ]
    }
   ],
   "source": [
    "a = np.array([1, 2, 3.0])\n",
    "print(a.dtype) #el tipo de la array, en este de caso de tipo flotante"
   ]
  },
  {
   "cell_type": "code",
   "execution_count": 16,
   "metadata": {},
   "outputs": [
    {
     "data": {
      "text/plain": [
       "array(['1', '2', '3'], dtype='<U11')"
      ]
     },
     "execution_count": 16,
     "metadata": {},
     "output_type": "execute_result"
    }
   ],
   "source": [
    "np.array([1, 2, '3'])#la array homogeniza a un tipo de array quees dificil manejar numéricamente\n",
    "                    #todos los elementos los convierte en string"
   ]
  },
  {
   "cell_type": "code",
   "execution_count": 17,
   "metadata": {},
   "outputs": [
    {
     "data": {
      "text/plain": [
       "array([1., 2., 3.])"
      ]
     },
     "execution_count": 17,
     "metadata": {},
     "output_type": "execute_result"
    }
   ],
   "source": [
    "np.array([1, 2, '3'], dtype=float) #con esto fuerzo a que los elementos del array sean punto flotante"
   ]
  },
  {
   "cell_type": "code",
   "execution_count": 19,
   "metadata": {},
   "outputs": [
    {
     "data": {
      "text/plain": [
       "array([1.+0.j, 2.+0.j, 3.+0.j])"
      ]
     },
     "execution_count": 19,
     "metadata": {},
     "output_type": "execute_result"
    }
   ],
   "source": [
    "np.array([1, 2, 3],dtype=complex)#al menos deben ser números reales, si son string botará error"
   ]
  },
  {
   "cell_type": "code",
   "execution_count": 20,
   "metadata": {},
   "outputs": [
    {
     "data": {
      "text/plain": [
       "array([1., 2., 3.])"
      ]
     },
     "execution_count": 20,
     "metadata": {},
     "output_type": "execute_result"
    }
   ],
   "source": [
    "a\n"
   ]
  },
  {
   "cell_type": "code",
   "execution_count": 30,
   "metadata": {},
   "outputs": [],
   "source": [
    "a = np.array([1.0, 2.0, 3.0])\n"
   ]
  },
  {
   "cell_type": "code",
   "execution_count": 31,
   "metadata": {},
   "outputs": [
    {
     "data": {
      "text/plain": [
       "array([1, 2, 3])"
      ]
     },
     "execution_count": 31,
     "metadata": {},
     "output_type": "execute_result"
    }
   ],
   "source": [
    "a.astype(int)# otra forma de convertir array en otro tipo. No acepta string\n"
   ]
  },
  {
   "cell_type": "code",
   "execution_count": 5,
   "metadata": {},
   "outputs": [
    {
     "ename": "SyntaxError",
     "evalue": "from __future__ imports must occur at the beginning of the file (<ipython-input-5-5fe948eb8189>, line 5)",
     "output_type": "error",
     "traceback": [
      "\u001b[1;36m  File \u001b[1;32m\"<ipython-input-5-5fe948eb8189>\"\u001b[1;36m, line \u001b[1;32m5\u001b[0m\n\u001b[1;31mSyntaxError\u001b[0m\u001b[1;31m:\u001b[0m from __future__ imports must occur at the beginning of the file\n"
     ]
    }
   ],
   "source": [
    "import numpy as np\n",
    "from __future__ import braces"
   ]
  },
  {
   "cell_type": "markdown",
   "metadata": {},
   "source": [
    "## Indexación de arrays"
   ]
  },
  {
   "cell_type": "code",
   "execution_count": 6,
   "metadata": {},
   "outputs": [
    {
     "data": {
      "text/plain": [
       "array([[1, 2, 3],\n",
       "       [4, 5, 6]])"
      ]
     },
     "execution_count": 6,
     "metadata": {},
     "output_type": "execute_result"
    }
   ],
   "source": [
    "import numpy as np\n",
    "a = np.array([\n",
    "    [1, 2, 3],\n",
    "    [4, 5, 6]\n",
    "])\n",
    "a"
   ]
  },
  {
   "cell_type": "code",
   "execution_count": 7,
   "metadata": {},
   "outputs": [
    {
     "data": {
      "text/plain": [
       "1"
      ]
     },
     "execution_count": 7,
     "metadata": {},
     "output_type": "execute_result"
    }
   ],
   "source": [
    "a[0][0]#llamo al primer elemento de la primera fila, los arrays funcionan como las listas de python"
   ]
  },
  {
   "cell_type": "code",
   "execution_count": 8,
   "metadata": {},
   "outputs": [
    {
     "data": {
      "text/plain": [
       "1"
      ]
     },
     "execution_count": 8,
     "metadata": {},
     "output_type": "execute_result"
    }
   ],
   "source": [
    "a[0, 0]"
   ]
  },
  {
   "cell_type": "code",
   "execution_count": 10,
   "metadata": {},
   "outputs": [
    {
     "data": {
      "text/plain": [
       "array([[2, 3],\n",
       "       [5, 6]])"
      ]
     },
     "execution_count": 10,
     "metadata": {},
     "output_type": "execute_result"
    }
   ],
   "source": [
    "a[0:2, 1:3] # con esto se toma en primer lugar las filas\n",
    "            #luego se toman las columnas\n",
    "            #recuerda que en python, cuando se trata de indices no se toma el último número\n",
    "            #el indice cero hace referencia al primer elemento tanto de la fila como de la columna"
   ]
  },
  {
   "cell_type": "code",
   "execution_count": 14,
   "metadata": {},
   "outputs": [
    {
     "data": {
      "text/plain": [
       "array([[2, 3],\n",
       "       [5, 6]])"
      ]
     },
     "execution_count": 14,
     "metadata": {},
     "output_type": "execute_result"
    }
   ],
   "source": [
    "a[:, 1:3] # forma abreviada de tomar por completo las filas. tambien se puede hacer lo mismo con las columnas"
   ]
  },
  {
   "cell_type": "code",
   "execution_count": 15,
   "metadata": {},
   "outputs": [
    {
     "data": {
      "text/plain": [
       "array([1, 3])"
      ]
     },
     "execution_count": 15,
     "metadata": {},
     "output_type": "execute_result"
    }
   ],
   "source": [
    "a[0, 0:3:2]#toma los elementos de la primera fila pero sólo los pares (es decir, saltandom dos)"
   ]
  },
  {
   "cell_type": "code",
   "execution_count": 16,
   "metadata": {},
   "outputs": [
    {
     "data": {
      "text/plain": [
       "array([4, 6])"
      ]
     },
     "execution_count": 16,
     "metadata": {},
     "output_type": "execute_result"
    }
   ],
   "source": [
    "a[1, : :2] #toma los elementos de la segunda fila pero solo toma las psociones pares (para el ejemolo 0 y 2) de columnas"
   ]
  },
  {
   "cell_type": "markdown",
   "metadata": {},
   "source": [
    "### Unos y ceros"
   ]
  },
  {
   "cell_type": "code",
   "execution_count": 4,
   "metadata": {},
   "outputs": [
    {
     "data": {
      "text/plain": [
       "array([[6.23042070e-307, 1.89146896e-307, 3.33772113e-307,\n",
       "        6.23048521e-307],\n",
       "       [8.45593934e-307, 7.56593017e-307, 8.01097889e-307,\n",
       "        1.78020169e-306],\n",
       "       [7.56601165e-307, 1.02359984e-306, 1.33510679e-306,\n",
       "        2.22522597e-306],\n",
       "       [6.23053614e-307, 1.33511562e-306, 6.89805151e-307,\n",
       "        8.90111708e-307]])"
      ]
     },
     "execution_count": 4,
     "metadata": {},
     "output_type": "execute_result"
    }
   ],
   "source": [
    "import numpy as np \n",
    "                    #se supone que hace una matrix vacía del tamaño que queramos. Ella toma valores\n",
    "np.empty ((4, 4))  #que previamente habiamos utilizado\n",
    "                  # no se recomienda su uso"
   ]
  },
  {
   "cell_type": "code",
   "execution_count": 6,
   "metadata": {},
   "outputs": [
    {
     "data": {
      "text/plain": [
       "array([[0., 0., 0., 0.],\n",
       "       [0., 0., 0., 0.],\n",
       "       [0., 0., 0., 0.],\n",
       "       [0., 0., 0., 0.]])"
      ]
     },
     "execution_count": 6,
     "metadata": {},
     "output_type": "execute_result"
    }
   ],
   "source": [
    "np.zeros((4, 4)) #devuelve una array de ceros\n",
    "                 #por defecto tipo flotante"
   ]
  },
  {
   "cell_type": "code",
   "execution_count": 8,
   "metadata": {},
   "outputs": [
    {
     "data": {
      "text/plain": [
       "array([[1., 1., 1., 1.],\n",
       "       [1., 1., 1., 1.],\n",
       "       [1., 1., 1., 1.],\n",
       "       [1., 1., 1., 1.]])"
      ]
     },
     "execution_count": 8,
     "metadata": {},
     "output_type": "execute_result"
    }
   ],
   "source": [
    "np.ones((4, 4)) #array de unos"
   ]
  },
  {
   "cell_type": "code",
   "execution_count": 10,
   "metadata": {},
   "outputs": [
    {
     "data": {
      "text/plain": [
       "array([[1., 0., 0., 0.],\n",
       "       [0., 1., 0., 0.],\n",
       "       [0., 0., 1., 0.],\n",
       "       [0., 0., 0., 1.]])"
      ]
     },
     "execution_count": 10,
     "metadata": {},
     "output_type": "execute_result"
    }
   ],
   "source": [
    "np.identity(4) #matriz identidad"
   ]
  },
  {
   "cell_type": "code",
   "execution_count": 12,
   "metadata": {},
   "outputs": [
    {
     "data": {
      "text/plain": [
       "array([[1, 0, 0, 0],\n",
       "       [0, 1, 0, 0],\n",
       "       [0, 0, 1, 0],\n",
       "       [0, 0, 0, 1]])"
      ]
     },
     "execution_count": 12,
     "metadata": {},
     "output_type": "execute_result"
    }
   ],
   "source": [
    "np.identity(4).astype(int) #el tipo de elemnto se puede cambiar"
   ]
  },
  {
   "cell_type": "code",
   "execution_count": 25,
   "metadata": {},
   "outputs": [
    {
     "data": {
      "text/plain": [
       "array([[0., 0., 0., 0., 0.],\n",
       "       [1., 0., 0., 0., 0.],\n",
       "       [0., 1., 0., 0., 0.],\n",
       "       [0., 0., 1., 0., 0.],\n",
       "       [0., 0., 0., 1., 0.]])"
      ]
     },
     "execution_count": 25,
     "metadata": {},
     "output_type": "execute_result"
    }
   ],
   "source": [
    "np.eye(5, 5, -1) #crea matrices identidad o matrices de cero y unos \n",
    "                 #las diagonales que se pueden desplazar hacia arriba y hacia abajo"
   ]
  },
  {
   "cell_type": "code",
   "execution_count": 27,
   "metadata": {},
   "outputs": [
    {
     "data": {
      "text/plain": [
       "array([[1., 0., 0.],\n",
       "       [0., 1., 0.],\n",
       "       [0., 0., 1.]])"
      ]
     },
     "execution_count": 27,
     "metadata": {},
     "output_type": "execute_result"
    }
   ],
   "source": [
    "i3 = np.identity(3)\n",
    "i3"
   ]
  },
  {
   "cell_type": "code",
   "execution_count": 28,
   "metadata": {},
   "outputs": [
    {
     "data": {
      "text/plain": [
       "(3, 3)"
      ]
     },
     "execution_count": 28,
     "metadata": {},
     "output_type": "execute_result"
    }
   ],
   "source": [
    "i3.shape#me da la forma de esa matriz"
   ]
  },
  {
   "cell_type": "code",
   "execution_count": 29,
   "metadata": {},
   "outputs": [
    {
     "data": {
      "text/plain": [
       "array([[1., 1., 1.],\n",
       "       [1., 1., 1.],\n",
       "       [1., 1., 1.]])"
      ]
     },
     "execution_count": 29,
     "metadata": {},
     "output_type": "execute_result"
    }
   ],
   "source": [
    "np.ones(i3.shape) # es decir que puedo, por ejemplo, construir una matriz identidad con base en la forma de otra"
   ]
  },
  {
   "cell_type": "code",
   "execution_count": 31,
   "metadata": {},
   "outputs": [
    {
     "data": {
      "text/plain": [
       "array([[1., 1., 1.],\n",
       "       [1., 1., 1.],\n",
       "       [1., 1., 1.]])"
      ]
     },
     "execution_count": 31,
     "metadata": {},
     "output_type": "execute_result"
    }
   ],
   "source": [
    "#otra forma de hacer lo anterior:\n",
    "np.ones_like(i3) #hace una matriz de unos con la forma del array i3"
   ]
  },
  {
   "cell_type": "markdown",
   "metadata": {},
   "source": [
    "### rangos"
   ]
  },
  {
   "cell_type": "code",
   "execution_count": 33,
   "metadata": {},
   "outputs": [
    {
     "data": {
      "text/plain": [
       "array([0.        , 0.02040816, 0.04081633, 0.06122449, 0.08163265,\n",
       "       0.10204082, 0.12244898, 0.14285714, 0.16326531, 0.18367347,\n",
       "       0.20408163, 0.2244898 , 0.24489796, 0.26530612, 0.28571429,\n",
       "       0.30612245, 0.32653061, 0.34693878, 0.36734694, 0.3877551 ,\n",
       "       0.40816327, 0.42857143, 0.44897959, 0.46938776, 0.48979592,\n",
       "       0.51020408, 0.53061224, 0.55102041, 0.57142857, 0.59183673,\n",
       "       0.6122449 , 0.63265306, 0.65306122, 0.67346939, 0.69387755,\n",
       "       0.71428571, 0.73469388, 0.75510204, 0.7755102 , 0.79591837,\n",
       "       0.81632653, 0.83673469, 0.85714286, 0.87755102, 0.89795918,\n",
       "       0.91836735, 0.93877551, 0.95918367, 0.97959184, 1.        ])"
      ]
     },
     "execution_count": 33,
     "metadata": {},
     "output_type": "execute_result"
    }
   ],
   "source": [
    "np.linspace(0, 1) #construye un vector con valores entre el rango de 0 y 1\n",
    "               #por defecto es un vector de 50 elementos"
   ]
  },
  {
   "cell_type": "code",
   "execution_count": 35,
   "metadata": {},
   "outputs": [
    {
     "data": {
      "text/plain": [
       "array([1.        , 1.05084746, 1.10169492, 1.15254237, 1.20338983,\n",
       "       1.25423729, 1.30508475, 1.3559322 , 1.40677966, 1.45762712,\n",
       "       1.50847458, 1.55932203, 1.61016949, 1.66101695, 1.71186441,\n",
       "       1.76271186, 1.81355932, 1.86440678, 1.91525424, 1.96610169,\n",
       "       2.01694915, 2.06779661, 2.11864407, 2.16949153, 2.22033898,\n",
       "       2.27118644, 2.3220339 , 2.37288136, 2.42372881, 2.47457627,\n",
       "       2.52542373, 2.57627119, 2.62711864, 2.6779661 , 2.72881356,\n",
       "       2.77966102, 2.83050847, 2.88135593, 2.93220339, 2.98305085,\n",
       "       3.03389831, 3.08474576, 3.13559322, 3.18644068, 3.23728814,\n",
       "       3.28813559, 3.33898305, 3.38983051, 3.44067797, 3.49152542,\n",
       "       3.54237288, 3.59322034, 3.6440678 , 3.69491525, 3.74576271,\n",
       "       3.79661017, 3.84745763, 3.89830508, 3.94915254, 4.        ])"
      ]
     },
     "execution_count": 35,
     "metadata": {},
     "output_type": "execute_result"
    }
   ],
   "source": [
    "np.linspace(1, 4, 60) # construye un vector de 60 elementos en el rango de 1 a 4"
   ]
  },
  {
   "cell_type": "code",
   "execution_count": 40,
   "metadata": {},
   "outputs": [
    {
     "data": {
      "text/plain": [
       "array([   1.        ,    5.62341325,   31.6227766 ,  177.827941  ,\n",
       "       1000.        ])"
      ]
     },
     "execution_count": 40,
     "metadata": {},
     "output_type": "execute_result"
    }
   ],
   "source": [
    "np.logspace(0, 3, num=5, base=10)# parecido a linspace pero con base logaritmica\n",
    "                          #crea un vector con 5 elementos con exponentes entre 0 y 3; y con base loratirmica 10\n",
    "                        #por defecto construye el vector de 50 elementos con base logaritmica 10"
   ]
  },
  {
   "cell_type": "code",
   "execution_count": 39,
   "metadata": {},
   "outputs": [
    {
     "data": {
      "text/plain": [
       "array([   1.        ,    1.1513954 ,    1.32571137,    1.52641797,\n",
       "          1.75751062,    2.02358965,    2.32995181,    2.6826958 ,\n",
       "          3.0888436 ,    3.55648031,    4.09491506,    4.71486636,\n",
       "          5.42867544,    6.25055193,    7.19685673,    8.28642773,\n",
       "          9.54095476,   10.98541142,   12.64855217,   14.56348478,\n",
       "         16.76832937,   19.30697729,   22.22996483,   25.59547923,\n",
       "         29.47051703,   33.93221772,   39.06939937,   44.98432669,\n",
       "         51.79474679,   59.63623317,   68.6648845 ,   79.06043211,\n",
       "         91.0298178 ,  104.81131342,  120.67926406,  138.94954944,\n",
       "        159.98587196,  184.20699693,  212.09508879,  244.20530945,\n",
       "        281.1768698 ,  323.74575428,  372.75937203,  429.19342601,\n",
       "        494.17133613,  568.9866029 ,  655.12855686,  754.31200634,\n",
       "        868.51137375, 1000.        ])"
      ]
     },
     "execution_count": 39,
     "metadata": {},
     "output_type": "execute_result"
    }
   ],
   "source": [
    "np.logspace(0, 3) #por defecto construye el vector de 50 elementos con base logaritmica 10"
   ]
  },
  {
   "cell_type": "code",
   "execution_count": 44,
   "metadata": {},
   "outputs": [
    {
     "data": {
      "text/plain": [
       "(array([[0. , 0.5, 1. ],\n",
       "        [0. , 0.5, 1. ],\n",
       "        [0. , 0.5, 1. ]]),\n",
       " array([[0. , 0. , 0. ],\n",
       "        [0.5, 0.5, 0.5],\n",
       "        [1. , 1. , 1. ]]))"
      ]
     },
     "execution_count": 44,
     "metadata": {},
     "output_type": "execute_result"
    }
   ],
   "source": [
    "x = np.linspace(0, 1, num=3)\n",
    "y = np.linspace(0, 1, num=3)\n",
    "\n",
    "xx, yy = np.meshgrid(x, y)\n",
    "xx, yy"
   ]
  },
  {
   "cell_type": "markdown",
   "metadata": {},
   "source": [
    "### Operaciones con arrays"
   ]
  },
  {
   "cell_type": "code",
   "execution_count": 50,
   "metadata": {},
   "outputs": [
    {
     "data": {
      "text/plain": [
       "array([[0, 1, 2],\n",
       "       [3, 4, 5]])"
      ]
     },
     "execution_count": 50,
     "metadata": {},
     "output_type": "execute_result"
    }
   ],
   "source": [
    "a = np.arange(2*3).reshape(2, 3) #crea un vector de o a 6 y luego le doy forma de 2 filas con 3 columnas\n",
    "a"
   ]
  },
  {
   "cell_type": "code",
   "execution_count": 51,
   "metadata": {},
   "outputs": [
    {
     "data": {
      "text/plain": [
       "array([[0.        , 1.        , 1.41421356],\n",
       "       [1.73205081, 2.        , 2.23606798]])"
      ]
     },
     "execution_count": 51,
     "metadata": {},
     "output_type": "execute_result"
    }
   ],
   "source": [
    "np.sqrt(a)#hago raiz cuadrada elemento a elemento del array"
   ]
  },
  {
   "cell_type": "code",
   "execution_count": 53,
   "metadata": {},
   "outputs": [
    {
     "name": "stderr",
     "output_type": "stream",
     "text": [
      "D:\\ARMANDOR\\anaconda\\lib\\site-packages\\ipykernel_launcher.py:1: RuntimeWarning: invalid value encountered in sqrt\n",
      "  \"\"\"Entry point for launching an IPython kernel.\n"
     ]
    },
    {
     "data": {
      "text/plain": [
       "array([       nan,        nan,        nan, 0.        , 1.        ,\n",
       "       1.41421356])"
      ]
     },
     "execution_count": 53,
     "metadata": {},
     "output_type": "execute_result"
    }
   ],
   "source": [
    "np.sqrt(np.arange(-3, 3))# hay valores donde no se puedo hacer la operación"
   ]
  },
  {
   "cell_type": "code",
   "execution_count": 54,
   "metadata": {},
   "outputs": [
    {
     "data": {
      "text/plain": [
       "array([-3.+0.j, -2.+0.j, -1.+0.j,  0.+0.j,  1.+0.j,  2.+0.j])"
      ]
     },
     "execution_count": 54,
     "metadata": {},
     "output_type": "execute_result"
    }
   ],
   "source": [
    "np.arange(-3, 3).astype(complex) #cambiando a tipo de dato imaginario, entonces si se puede hacer raiz cuadrada"
   ]
  },
  {
   "cell_type": "code",
   "execution_count": 55,
   "metadata": {},
   "outputs": [
    {
     "data": {
      "text/plain": [
       "array([0.        +1.73205081j, 0.        +1.41421356j,\n",
       "       0.        +1.j        , 0.        +0.j        ,\n",
       "       1.        +0.j        , 1.41421356+0.j        ])"
      ]
     },
     "execution_count": 55,
     "metadata": {},
     "output_type": "execute_result"
    }
   ],
   "source": [
    "np.sqrt(_)"
   ]
  },
  {
   "cell_type": "code",
   "execution_count": 56,
   "metadata": {},
   "outputs": [
    {
     "data": {
      "text/plain": [
       "(array([0, 1, 2, 3, 4, 5]), array([1, 1, 1, 1, 1, 1]))"
      ]
     },
     "execution_count": 56,
     "metadata": {},
     "output_type": "execute_result"
    }
   ],
   "source": [
    "a = np.arange(6)\n",
    "b = np.ones(6).astype(int)\n",
    "a, b"
   ]
  },
  {
   "cell_type": "code",
   "execution_count": 57,
   "metadata": {},
   "outputs": [
    {
     "data": {
      "text/plain": [
       "array([ True, False, False, False, False, False])"
      ]
     },
     "execution_count": 57,
     "metadata": {},
     "output_type": "execute_result"
    }
   ],
   "source": [
    "a<b #puedo comparar elemento a elemento"
   ]
  },
  {
   "cell_type": "code",
   "execution_count": 61,
   "metadata": {},
   "outputs": [
    {
     "data": {
      "text/plain": [
       "True"
      ]
     },
     "execution_count": 61,
     "metadata": {},
     "output_type": "execute_result"
    }
   ],
   "source": [
    "np.any(a<b)# si algún valor de a es menor que el respectivo comparado con b, entonces imprime un boleano True\n",
    "           # de lo contrario la salida será False"
   ]
  },
  {
   "cell_type": "code",
   "execution_count": 62,
   "metadata": {},
   "outputs": [
    {
     "data": {
      "text/plain": [
       "False"
      ]
     },
     "execution_count": 62,
     "metadata": {},
     "output_type": "execute_result"
    }
   ],
   "source": [
    "np.all(a<b)#comprueba si todos los elementos comparados son verdaderos"
   ]
  },
  {
   "cell_type": "code",
   "execution_count": 63,
   "metadata": {},
   "outputs": [
    {
     "data": {
      "text/plain": [
       "(array([0., 1., 2., 3., 4., 5.]), array([1., 1., 1., 1., 1., 1.]))"
      ]
     },
     "execution_count": 63,
     "metadata": {},
     "output_type": "execute_result"
    }
   ],
   "source": [
    "# para hacer comparaciones con elementos de punto flotantes\n",
    "a = np.arange(6).astype(float)\n",
    "b = np.ones(6)\n",
    "a, b"
   ]
  },
  {
   "cell_type": "code",
   "execution_count": 64,
   "metadata": {},
   "outputs": [
    {
     "data": {
      "text/plain": [
       "array([False,  True, False, False, False, False])"
      ]
     },
     "execution_count": 64,
     "metadata": {},
     "output_type": "execute_result"
    }
   ],
   "source": [
    "np.isclose(a, b, rtol=1e-6)#para hacer comparaciones entre arrays de elemntos a elementos de punto flotante\n",
    "                           #rtol es la tolerancia\n",
    "                           #1e-6 es 10 elevado a la menos 6"
   ]
  },
  {
   "cell_type": "code",
   "execution_count": 65,
   "metadata": {},
   "outputs": [
    {
     "data": {
      "text/plain": [
       "False"
      ]
     },
     "execution_count": 65,
     "metadata": {},
     "output_type": "execute_result"
    }
   ],
   "source": [
    "np.allclose(a, b, rtol=1e-6) #comprueba si todos los elementos comparados son verdaderos"
   ]
  },
  {
   "cell_type": "markdown",
   "metadata": {},
   "source": [
    "### Ejemplos"
   ]
  },
  {
   "cell_type": "code",
   "execution_count": 77,
   "metadata": {},
   "outputs": [
    {
     "data": {
      "text/plain": [
       "array([[1., 1., 1., 1.],\n",
       "       [0., 0., 0., 0.],\n",
       "       [0., 0., 0., 0.]])"
      ]
     },
     "execution_count": 77,
     "metadata": {},
     "output_type": "execute_result"
    }
   ],
   "source": [
    "#crea una array z2, 3x4, llena de ceros salvo la primera fila que serán todos unos\n",
    "a = np.zeros((3, 4))#esto me crea una matriz de ceros 3x4\n",
    "a[0] = np.ones(4)#sobre la primera fila de la matriz coloco unos hasta antes del indice 4, es decir la posición 4\n",
    "                 #otra forma sería a[0, :] = np.ones(4)\n",
    "                #otra forma sería a[0] = 1 \n",
    "a"
   ]
  },
  {
   "cell_type": "code",
   "execution_count": 79,
   "metadata": {},
   "outputs": [
    {
     "data": {
      "text/plain": [
       "array([[0., 0., 0., 0.],\n",
       "       [0., 0., 0., 0.],\n",
       "       [5., 6., 7., 8.]])"
      ]
     },
     "execution_count": 79,
     "metadata": {},
     "output_type": "execute_result"
    }
   ],
   "source": [
    "#crea una matris de ceros cuya última fila está en el rango de 5 a 8\n",
    "a = np.zeros((3, 4))\n",
    "a[2] = np.arange(5, 9) #otra forma sería a[-1] = np.arange(5, 9)\n",
    "a"
   ]
  },
  {
   "cell_type": "code",
   "execution_count": 88,
   "metadata": {},
   "outputs": [
    {
     "data": {
      "text/plain": [
       "array([2., 1., 2., 1., 2., 1., 2., 1., 2., 1.])"
      ]
     },
     "execution_count": 88,
     "metadata": {},
     "output_type": "execute_result"
    }
   ],
   "source": [
    "#crea un vector de 10 elementos, siendo los impares unos y los pares doses\n",
    "c = np.ones(10)\n",
    "c[::2] = 2\n",
    "c"
   ]
  },
  {
   "cell_type": "code",
   "execution_count": 99,
   "metadata": {},
   "outputs": [
    {
     "data": {
      "text/plain": [
       "array([[0., 1., 0., 1., 0., 1., 0., 1.],\n",
       "       [1., 0., 1., 0., 1., 0., 1., 0.],\n",
       "       [0., 1., 0., 1., 0., 1., 0., 1.],\n",
       "       [1., 0., 1., 0., 1., 0., 1., 0.],\n",
       "       [0., 1., 0., 1., 0., 1., 0., 1.],\n",
       "       [1., 0., 1., 0., 1., 0., 1., 0.],\n",
       "       [0., 1., 0., 1., 0., 1., 0., 1.],\n",
       "       [1., 0., 1., 0., 1., 0., 1., 0.]])"
      ]
     },
     "execution_count": 99,
     "metadata": {},
     "output_type": "execute_result"
    }
   ],
   "source": [
    "#crear un tablero de ajedrez con unos en las casillas negras y ceros en las blancas\n",
    "t = np.zeros((8,8))\n",
    "t[1::2, ::2]=1\n",
    "t[::2, 1::2]=1\n",
    "\n",
    "t"
   ]
  },
  {
   "cell_type": "markdown",
   "metadata": {},
   "source": [
    "### ¿matplotlib?"
   ]
  },
  {
   "cell_type": "markdown",
   "metadata": {},
   "source": [
    "#### Es la biblioteca para la visualización de python "
   ]
  },
  {
   "cell_type": "code",
   "execution_count": 1,
   "metadata": {},
   "outputs": [],
   "source": [
    "#lo primero es activar el modo inline, para que las figuras aparezcan incrustadas en el notebook:\n",
    "%matplotlib inline"
   ]
  },
  {
   "cell_type": "code",
   "execution_count": 2,
   "metadata": {},
   "outputs": [],
   "source": [
    "# ahora se importan los paquetes necesarios\n",
    "import numpy as np\n",
    "import matplotlib.pyplot as plt"
   ]
  },
  {
   "cell_type": "markdown",
   "metadata": {},
   "source": [
    "$$f(x) = e^{-x^2}$$"
   ]
  },
  {
   "cell_type": "code",
   "execution_count": 3,
   "metadata": {},
   "outputs": [],
   "source": [
    "def f(x):   #con esto se define la función\n",
    "    return np.exp(-x**2)"
   ]
  },
  {
   "cell_type": "code",
   "execution_count": 4,
   "metadata": {},
   "outputs": [
    {
     "data": {
      "text/plain": [
       "<matplotlib.legend.Legend at 0x2ecab7beb48>"
      ]
     },
     "execution_count": 4,
     "metadata": {},
     "output_type": "execute_result"
    },
    {
     "data": {
      "image/png": "[encoded data removed]",
      "text/plain": [
       "<Figure size 432x288 with 1 Axes>"
      ]
     },
     "metadata": {
      "needs_background": "light"
     },
     "output_type": "display_data"
    }
   ],
   "source": [
    "x = np.linspace(-5, 5, 1000) #con esto se define el dominio, es decir entre -5 y 5\n",
    "plt.plot(x, f(x), 'g', label=\"Función f(x)\") #esto dibuja la ecuación\n",
    "#para sacar la información adicional de la función se utiliza Shift+Tab\n",
    "#tambien podria escribir como código abreviado 'r' Python entenderá que se refiere al color red\n",
    "#'g' green\n",
    "plt.xlabel(\"Eje x\")#con esto modifico las etiquetas en x\n",
    "plt.ylabel(\"f(x)\")#con esto modifico las etiquetas en y\n",
    "plt.legend() # para agregar una función a la grafica"
   ]
  },
  {
   "cell_type": "code",
   "execution_count": 5,
   "metadata": {},
   "outputs": [
    {
     "data": {
      "text/plain": [
       "Text(0.5, 1.0, '$E = mc^2$')"
      ]
     },
     "execution_count": 5,
     "metadata": {},
     "output_type": "execute_result"
    },
    {
     "data": {
      "image/png": "[encoded data removed]",
      "text/plain": [
       "<Figure size 432x288 with 1 Axes>"
      ]
     },
     "metadata": {
      "needs_background": "light"
     },
     "output_type": "display_data"
    }
   ],
   "source": [
    "x = np.linspace(-5, 5, 30) \n",
    "plt.plot(x, f(x), 'or', label=\"Función f(x)\") # con \"o\" cambio eltipo de impresión de la curva por bolas\n",
    "                                             #el otro elemnto \"r\" es el color red\n",
    "\n",
    "plt.xlabel(\"Eje x\")\n",
    "plt.ylabel(\"$f(x)$\")#los signos pesos para que la impresión quede como la de latex\n",
    "plt.grid(True) # imprime una cuadricula\n",
    "plt.legend()\n",
    "plt.title(\"$E = mc^2$\")"
   ]
  },
  {
   "cell_type": "markdown",
   "metadata": {},
   "source": [
    "## Yendo a la parte superior de esta página en Help/Matplotlip Reference, encontrará más información de interés para profundizar en graficación en Python"
   ]
  },
  {
   "cell_type": "markdown",
   "metadata": {},
   "source": [
    "### Interfaz orientada a objetos"
   ]
  },
  {
   "cell_type": "code",
   "execution_count": 6,
   "metadata": {},
   "outputs": [
    {
     "data": {
      "image/png": "[encoded data removed]",
      "text/plain": [
       "<Figure size 432x288 with 1 Axes>"
      ]
     },
     "metadata": {
      "needs_background": "light"
     },
     "output_type": "display_data"
    }
   ],
   "source": [
    "fig, axes = plt.subplots() #crea una figura en blanco,\n",
    "                           #por un lado devuelve la figura y por otro el sistema de ejes\n",
    "    # \"el sistema de ejes es el lugar donde estoy haciendo todas mis representaciones, el lugar de colo hasta donde van mis parametros, el aspecto de la grafica, qué objetos estoy pintando\"\n",
    "    #\"la figura es el contenedor de ese sistema de ejes\"\n",
    "    #tanto fig y axes son objetos"
   ]
  },
  {
   "cell_type": "code",
   "execution_count": 11,
   "metadata": {},
   "outputs": [
    {
     "data": {
      "text/plain": [
       "array([-5.        , -4.65517241, -4.31034483, -3.96551724, -3.62068966,\n",
       "       -3.27586207, -2.93103448, -2.5862069 , -2.24137931, -1.89655172,\n",
       "       -1.55172414, -1.20689655, -0.86206897, -0.51724138, -0.17241379,\n",
       "        0.17241379,  0.51724138,  0.86206897,  1.20689655,  1.55172414,\n",
       "        1.89655172,  2.24137931,  2.5862069 ,  2.93103448,  3.27586207,\n",
       "        3.62068966,  3.96551724,  4.31034483,  4.65517241,  5.        ])"
      ]
     },
     "execution_count": 11,
     "metadata": {},
     "output_type": "execute_result"
    }
   ],
   "source": [
    "x\n"
   ]
  },
  {
   "cell_type": "code",
   "execution_count": 12,
   "metadata": {},
   "outputs": [
    {
     "data": {
      "text/plain": [
       "array([1.38879439e-11, 3.87761676e-10, 8.53515319e-09, 1.48107572e-07,\n",
       "       2.02610854e-06, 2.18508159e-05, 1.85777072e-04, 1.24519129e-03,\n",
       "       6.57960074e-03, 2.74083260e-02, 9.00088032e-02, 2.33027388e-01,\n",
       "       4.75607235e-01, 7.65260757e-01, 9.70710971e-01, 9.70710971e-01,\n",
       "       7.65260757e-01, 4.75607235e-01, 2.33027388e-01, 9.00088032e-02,\n",
       "       2.74083260e-02, 6.57960074e-03, 1.24519129e-03, 1.85777072e-04,\n",
       "       2.18508159e-05, 2.02610854e-06, 1.48107572e-07, 8.53515319e-09,\n",
       "       3.87761676e-10, 1.38879439e-11])"
      ]
     },
     "execution_count": 12,
     "metadata": {},
     "output_type": "execute_result"
    }
   ],
   "source": [
    "f(x)"
   ]
  },
  {
   "cell_type": "code",
   "execution_count": 7,
   "metadata": {},
   "outputs": [
    {
     "data": {
      "text/plain": [
       "(-1, 2)"
      ]
     },
     "execution_count": 7,
     "metadata": {},
     "output_type": "execute_result"
    },
    {
     "data": {
      "image/png": "[encoded data removed]",
      "text/plain": [
       "<Figure size 432x288 with 1 Axes>"
      ]
     },
     "metadata": {
      "needs_background": "light"
     },
     "output_type": "display_data"
    }
   ],
   "source": [
    "fig, axes = plt.subplots()\n",
    "axes.plot(x, f(x), 'ro', label='Función F(x)')#aplico la función plot dentro de un objeto axes\n",
    "                                              #representar grsficas pertenece al objeto axes\n",
    "fig.savefig('grafical.png')#guardo una grafica con el nombre en rojo y comillas\n",
    "#la función savefig la utilizo dentro del objeto fig\n",
    "#los limites que estoy evaluando los puedo ajustar con:\n",
    "axes.set_xlim(-2, 4)\n",
    "axes.set_ylim(-1, 2)"
   ]
  },
  {
   "cell_type": "code",
   "execution_count": 16,
   "metadata": {},
   "outputs": [
    {
     "data": {
      "text/plain": [
       "Text(0.5, 0, 'el otro eje x')"
      ]
     },
     "execution_count": 16,
     "metadata": {},
     "output_type": "execute_result"
    },
    {
     "data": {
      "image/png": "[encoded data removed]",
      "text/plain": [
       "<Figure size 432x288 with 2 Axes>"
      ]
     },
     "metadata": {
      "needs_background": "light"
     },
     "output_type": "display_data"
    }
   ],
   "source": [
    "#hacer una grafica con varios sistemas de ejes:\n",
    "fig, axes = plt.subplots(1, 2, sharey=True)#una fila con dos columnas, saldrá un grafico a la izquierda y otro a la derecha\n",
    "#si quiero dibujar algo en el primer elemento lo llamo por su indice\n",
    "axes[0].plot(x, f(x), color='green')\n",
    "axes[0].set_xlabel('Eje x')\n",
    "\n",
    "axes[1].plot(x, -f(x), 'r')\n",
    "axes[1].set_xlabel('el otro eje x') "
   ]
  },
  {
   "cell_type": "code",
   "execution_count": 8,
   "metadata": {},
   "outputs": [
    {
     "name": "stderr",
     "output_type": "stream",
     "text": [
      "D:\\ARMANDOR\\anaconda\\lib\\site-packages\\matplotlib\\collections.py:857: RuntimeWarning: invalid value encountered in sqrt\n",
      "  scale = np.sqrt(self._sizes) * dpi / 72.0 * self._factor\n"
     ]
    },
    {
     "data": {
      "text/plain": [
       "<matplotlib.collections.PathCollection at 0x2ecaba2efc8>"
      ]
     },
     "execution_count": 8,
     "metadata": {},
     "output_type": "execute_result"
    },
    {
     "data": {
      "image/png": "[encoded data removed]",
      "text/plain": [
       "<Figure size 432x288 with 1 Axes>"
      ]
     },
     "metadata": {
      "needs_background": "light"
     },
     "output_type": "display_data"
    }
   ],
   "source": [
    "#modulo random de nompay para crear una distribucion normal de dos dimenciones de puntos\n",
    "x = np.random.randn(200)\n",
    "y = np.random.randn(200)\n",
    "s = 200*np.random.randn(100) #tamaño de los puntos\n",
    "c = np.random.randn(200) #colores, cada valor numerico se asocia con un color\n",
    "\n",
    "plt.scatter(x, y, s, c, cmap='hot')#a quí hay una divergencia de como llamar el tipo de mapas de colores"
   ]
  },
  {
   "cell_type": "markdown",
   "metadata": {},
   "source": [
    "$$g(x, y) = \\cos(x) + \\sin (y)^2$$"
   ]
  },
  {
   "cell_type": "code",
   "execution_count": 9,
   "metadata": {},
   "outputs": [],
   "source": [
    "x = np.linspace(-2, 2)\n",
    "y = np.linspace (-2, 2)\n",
    "\n",
    "xx, yy = np.meshgrid(x,y)\n"
   ]
  },
  {
   "cell_type": "code",
   "execution_count": 10,
   "metadata": {},
   "outputs": [],
   "source": [
    "def g(x, y):\n",
    "    return np.cos(x) + np.sin(y)**2"
   ]
  },
  {
   "cell_type": "code",
   "execution_count": 11,
   "metadata": {},
   "outputs": [],
   "source": [
    "zz = g(xx, yy)"
   ]
  },
  {
   "cell_type": "code",
   "execution_count": 12,
   "metadata": {},
   "outputs": [
    {
     "data": {
      "text/plain": [
       "<matplotlib.contour.QuadContourSet at 0x2ecabadb508>"
      ]
     },
     "execution_count": 12,
     "metadata": {},
     "output_type": "execute_result"
    },
    {
     "data": {
      "image/png": "[encoded data removed]",
      "text/plain": [
       "<Figure size 432x288 with 1 Axes>"
      ]
     },
     "metadata": {
      "needs_background": "light"
     },
     "output_type": "display_data"
    }
   ],
   "source": [
    "fig, axes  = plt.subplots()\n",
    "axes.contour(xx, yy, zz, [-1, 0, 1], cmap=\"Accent\")#contour hace unos cortes a diferentes valores de z y lo que se ve es la intersección entre estos planos de corte y la superficie x,y\n",
    "#en countour puedo incluir una lista con cortes especificos y tampien especificar el tipo de mapa de colores"
   ]
  },
  {
   "cell_type": "code",
   "execution_count": 13,
   "metadata": {},
   "outputs": [
    {
     "data": {
      "text/plain": [
       "<matplotlib.contour.QuadContourSet at 0x2ecabb72408>"
      ]
     },
     "execution_count": 13,
     "metadata": {},
     "output_type": "execute_result"
    },
    {
     "data": {
      "image/png": "[encoded data removed]",
      "text/plain": [
       "<Figure size 432x288 with 1 Axes>"
      ]
     },
     "metadata": {
      "needs_background": "light"
     },
     "output_type": "display_data"
    }
   ],
   "source": [
    "fig, axes  = plt.subplots()\n",
    "axes.contourf(xx, yy, zz, cmap=\"hot\")#contourf, hace lo mismo que contour pero rellena los espacios entre cada contorno"
   ]
  },
  {
   "cell_type": "code",
   "execution_count": 14,
   "metadata": {},
   "outputs": [
    {
     "data": {
      "text/plain": [
       "<matplotlib.contour.QuadContourSet at 0x2ecabbfc188>"
      ]
     },
     "execution_count": 14,
     "metadata": {},
     "output_type": "execute_result"
    },
    {
     "data": {
      "image/png": "[encoded data removed]",
      "text/plain": [
       "<Figure size 432x288 with 1 Axes>"
      ]
     },
     "metadata": {
      "needs_background": "light"
     },
     "output_type": "display_data"
    }
   ],
   "source": [
    "fig, axes  = plt.subplots()\n",
    "axes.contourf(xx, yy, zz, np.linspace(-1,1), cmap=\"hot\")#\"agregando \"linspace\" hacemos un degradado más vistoso\""
   ]
  },
  {
   "cell_type": "markdown",
   "metadata": {},
   "source": [
    "### Ejemplo con datos reales"
   ]
  },
  {
   "cell_type": "code",
   "execution_count": 15,
   "metadata": {},
   "outputs": [
    {
     "data": {
      "text/html": [
       "<div>\n",
       "<style scoped>\n",
       "    .dataframe tbody tr th:only-of-type {\n",
       "        vertical-align: middle;\n",
       "    }\n",
       "\n",
       "    .dataframe tbody tr th {\n",
       "        vertical-align: top;\n",
       "    }\n",
       "\n",
       "    .dataframe thead th {\n",
       "        text-align: right;\n",
       "    }\n",
       "</style>\n",
       "<table border=\"1\" class=\"dataframe\">\n",
       "  <thead>\n",
       "    <tr style=\"text-align: right;\">\n",
       "      <th></th>\n",
       "      <th>STATION</th>\n",
       "      <th>DATE</th>\n",
       "      <th>TMAX</th>\n",
       "      <th>TMIN</th>\n",
       "    </tr>\n",
       "  </thead>\n",
       "  <tbody>\n",
       "    <tr>\n",
       "      <th>0</th>\n",
       "      <td>GHCND:USW00094728</td>\n",
       "      <td>20130101</td>\n",
       "      <td>44</td>\n",
       "      <td>-33</td>\n",
       "    </tr>\n",
       "    <tr>\n",
       "      <th>1</th>\n",
       "      <td>GHCND:USW00094728</td>\n",
       "      <td>20130102</td>\n",
       "      <td>6</td>\n",
       "      <td>-56</td>\n",
       "    </tr>\n",
       "    <tr>\n",
       "      <th>2</th>\n",
       "      <td>GHCND:USW00094728</td>\n",
       "      <td>20130103</td>\n",
       "      <td>0</td>\n",
       "      <td>-44</td>\n",
       "    </tr>\n",
       "    <tr>\n",
       "      <th>3</th>\n",
       "      <td>GHCND:USW00094728</td>\n",
       "      <td>20130104</td>\n",
       "      <td>28</td>\n",
       "      <td>-11</td>\n",
       "    </tr>\n",
       "    <tr>\n",
       "      <th>4</th>\n",
       "      <td>GHCND:USW00094728</td>\n",
       "      <td>20130105</td>\n",
       "      <td>56</td>\n",
       "      <td>0</td>\n",
       "    </tr>\n",
       "    <tr>\n",
       "      <th>...</th>\n",
       "      <td>...</td>\n",
       "      <td>...</td>\n",
       "      <td>...</td>\n",
       "      <td>...</td>\n",
       "    </tr>\n",
       "    <tr>\n",
       "      <th>361</th>\n",
       "      <td>GHCND:USW00094728</td>\n",
       "      <td>20131228</td>\n",
       "      <td>128</td>\n",
       "      <td>22</td>\n",
       "    </tr>\n",
       "    <tr>\n",
       "      <th>362</th>\n",
       "      <td>GHCND:USW00094728</td>\n",
       "      <td>20131229</td>\n",
       "      <td>89</td>\n",
       "      <td>50</td>\n",
       "    </tr>\n",
       "    <tr>\n",
       "      <th>363</th>\n",
       "      <td>GHCND:USW00094728</td>\n",
       "      <td>20131230</td>\n",
       "      <td>72</td>\n",
       "      <td>-49</td>\n",
       "    </tr>\n",
       "    <tr>\n",
       "      <th>364</th>\n",
       "      <td>GHCND:USW00094728</td>\n",
       "      <td>20131231</td>\n",
       "      <td>0</td>\n",
       "      <td>-60</td>\n",
       "    </tr>\n",
       "    <tr>\n",
       "      <th>365</th>\n",
       "      <td>GHCND:USW00094728</td>\n",
       "      <td>20140101</td>\n",
       "      <td>6</td>\n",
       "      <td>-43</td>\n",
       "    </tr>\n",
       "  </tbody>\n",
       "</table>\n",
       "<p>366 rows × 4 columns</p>\n",
       "</div>"
      ],
      "text/plain": [
       "               STATION      DATE  TMAX  TMIN\n",
       "0    GHCND:USW00094728  20130101    44   -33\n",
       "1    GHCND:USW00094728  20130102     6   -56\n",
       "2    GHCND:USW00094728  20130103     0   -44\n",
       "3    GHCND:USW00094728  20130104    28   -11\n",
       "4    GHCND:USW00094728  20130105    56     0\n",
       "..                 ...       ...   ...   ...\n",
       "361  GHCND:USW00094728  20131228   128    22\n",
       "362  GHCND:USW00094728  20131229    89    50\n",
       "363  GHCND:USW00094728  20131230    72   -49\n",
       "364  GHCND:USW00094728  20131231     0   -60\n",
       "365  GHCND:USW00094728  20140101     6   -43\n",
       "\n",
       "[366 rows x 4 columns]"
      ]
     },
     "execution_count": 15,
     "metadata": {},
     "output_type": "execute_result"
    }
   ],
   "source": [
    "#!cat temperaturas.csv#esto no me sirve para importar el archvo de temperaturas\n",
    "import pandas as pd\n",
    "temp = pd.read_csv('temperaturas.csv')\n",
    "temp"
   ]
  },
  {
   "cell_type": "code",
   "execution_count": 25,
   "metadata": {},
   "outputs": [
    {
     "name": "stdout",
     "output_type": "stream",
     "text": [
      "STATION,DATE,TMAX,TMIN\n",
      "GHCND:USW00094728,20130101,44,-33\n",
      "GHCND:USW00094728,20130102,6,-56\n",
      "GHCND:USW00094728,20130103,0,-44\n",
      "GHCND:USW00094728,20130104,28,-11\n",
      "GHCND:USW00094728,20130105,56,0\n",
      "GHCND:USW00094728,20130106,78,11\n",
      "GHCND:USW00094728,20130107,72,28\n",
      "GHCND:USW00094728,20130108,89,17\n",
      "GHCND:USW00094728,20130109,94,39\n",
      "GHCND:USW00094728,20130110,83,44\n",
      "GHCND:USW00094728,20130111,78,28\n",
      "GHCND:USW00094728,20130112,83,56\n",
      "GHCND:USW00094728,20130113,100,61\n",
      "GHCND:USW00094728,20130114,133,33\n",
      "GHCND:USW00094728,20130115,33,17\n",
      "GHCND:USW00094728,20130116,28,0\n",
      "GHCND:USW00094728,20130117,61,17\n",
      "GHCND:USW00094728,20130118,17,-39\n",
      "GHCND:USW00094728,20130119,106,-11\n",
      "GHCND:USW00094728,20130120,117,-11\n",
      "GHCND:USW00094728,20130121,0,-33\n",
      "GHCND:USW00094728,20130122,-28,-106\n",
      "GHCND:USW00094728,20130123,-67,-117\n",
      "GHCND:USW00094728,20130124,-56,-111\n",
      "GHCND:USW00094728,20130125,-44,-106\n",
      "GHCND:USW00094728,20130126,-28,-94\n",
      "GHCND:USW00094728,20130127,11,-72\n",
      "GHCND:USW00094728,20130128,22,-17\n",
      "GHCND:USW00094728,20130129,94,22\n",
      "GHCND:USW00094728,20130130,150,39\n",
      "GHCND:USW00094728,20130131,161,-11\n",
      "GHCND:USW00094728,20130201,-6,-44\n",
      "GHCND:USW00094728,20130202,-17,-72\n",
      "GHCND:USW00094728,20130203,-11,-44\n",
      "GHCND:USW00094728,20130204,-11,-50\n",
      "GHCND:USW00094728,20130205,0,-22\n",
      "GHCND:USW00094728,20130206,39,-17\n",
      "GHCND:USW00094728,20130207,0,-33\n",
      "GHCND:USW00094728,20130208,11,-28\n",
      "GHCND:USW00094728,20130209,0,-61\n",
      "GHCND:USW00094728,20130210,22,-78\n",
      "GHCND:USW00094728,20130211,72,11\n",
      "GHCND:USW00094728,20130212,67,22\n",
      "GHCND:USW00094728,20130213,67,6\n",
      "GHCND:USW00094728,20130214,78,6\n",
      "GHCND:USW00094728,20130215,128,28\n",
      "GHCND:USW00094728,20130216,50,-6\n",
      "GHCND:USW00094728,20130217,0,-78\n",
      "GHCND:USW00094728,20130218,17,-83\n",
      "GHCND:USW00094728,20130219,94,6\n",
      "GHCND:USW00094728,20130220,33,-39\n",
      "GHCND:USW00094728,20130221,11,-44\n",
      "GHCND:USW00094728,20130222,33,-39\n",
      "GHCND:USW00094728,20130223,56,22\n",
      "GHCND:USW00094728,20130224,83,11\n",
      "GHCND:USW00094728,20130225,72,0\n",
      "GHCND:USW00094728,20130226,67,17\n",
      "GHCND:USW00094728,20130227,83,22\n",
      "GHCND:USW00094728,20130228,106,39\n",
      "GHCND:USW00094728,20130301,72,22\n",
      "GHCND:USW00094728,20130302,44,-6\n",
      "GHCND:USW00094728,20130303,44,-17\n",
      "GHCND:USW00094728,20130304,56,-28\n",
      "GHCND:USW00094728,20130305,94,-6\n",
      "GHCND:USW00094728,20130306,56,33\n",
      "GHCND:USW00094728,20130307,33,6\n",
      "GHCND:USW00094728,20130308,56,-6\n",
      "GHCND:USW00094728,20130309,128,17\n",
      "GHCND:USW00094728,20130310,100,22\n",
      "GHCND:USW00094728,20130311,122,44\n",
      "GHCND:USW00094728,20130312,139,61\n",
      "GHCND:USW00094728,20130313,111,33\n",
      "GHCND:USW00094728,20130314,50,-17\n",
      "GHCND:USW00094728,20130315,83,-11\n",
      "GHCND:USW00094728,20130316,50,0\n",
      "GHCND:USW00094728,20130317,33,-17\n",
      "GHCND:USW00094728,20130318,17,-22\n",
      "GHCND:USW00094728,20130319,61,6\n",
      "GHCND:USW00094728,20130320,72,0\n",
      "GHCND:USW00094728,20130321,44,-11\n",
      "GHCND:USW00094728,20130322,50,-22\n",
      "GHCND:USW00094728,20130323,78,0\n",
      "GHCND:USW00094728,20130324,83,6\n",
      "GHCND:USW00094728,20130325,44,22\n",
      "GHCND:USW00094728,20130326,117,28\n",
      "GHCND:USW00094728,20130327,117,22\n",
      "GHCND:USW00094728,20130328,106,28\n",
      "GHCND:USW00094728,20130329,128,44\n",
      "GHCND:USW00094728,20130330,150,44\n",
      "GHCND:USW00094728,20130331,122,67\n",
      "GHCND:USW00094728,20130401,167,28\n",
      "GHCND:USW00094728,20130402,61,6\n",
      "GHCND:USW00094728,20130403,78,6\n",
      "GHCND:USW00094728,20130404,117,6\n",
      "GHCND:USW00094728,20130405,178,50\n",
      "GHCND:USW00094728,20130406,111,17\n",
      "GHCND:USW00094728,20130407,128,44\n",
      "GHCND:USW00094728,20130408,228,106\n",
      "GHCND:USW00094728,20130409,278,106\n",
      "GHCND:USW00094728,20130410,233,128\n",
      "GHCND:USW00094728,20130411,156,83\n",
      "GHCND:USW00094728,20130412,83,50\n",
      "GHCND:USW00094728,20130413,144,50\n",
      "GHCND:USW00094728,20130414,139,78\n",
      "GHCND:USW00094728,20130415,150,67\n",
      "GHCND:USW00094728,20130416,172,83\n",
      "GHCND:USW00094728,20130417,217,128\n",
      "GHCND:USW00094728,20130418,150,106\n",
      "GHCND:USW00094728,20130419,217,128\n",
      "GHCND:USW00094728,20130420,156,61\n",
      "GHCND:USW00094728,20130421,128,28\n",
      "GHCND:USW00094728,20130422,128,50\n",
      "GHCND:USW00094728,20130423,117,50\n",
      "GHCND:USW00094728,20130424,206,67\n",
      "GHCND:USW00094728,20130425,189,78\n",
      "GHCND:USW00094728,20130426,194,100\n",
      "GHCND:USW00094728,20130427,217,89\n",
      "GHCND:USW00094728,20130428,206,106\n",
      "GHCND:USW00094728,20130429,139,111\n",
      "GHCND:USW00094728,20130430,200,106\n",
      "GHCND:USW00094728,20130501,206,83\n",
      "GHCND:USW00094728,20130502,222,94\n",
      "GHCND:USW00094728,20130503,189,94\n",
      "GHCND:USW00094728,20130504,206,89\n",
      "GHCND:USW00094728,20130505,178,78\n",
      "GHCND:USW00094728,20130506,206,78\n",
      "GHCND:USW00094728,20130507,233,111\n",
      "GHCND:USW00094728,20130508,172,128\n",
      "GHCND:USW00094728,20130509,200,122\n",
      "GHCND:USW00094728,20130510,261,150\n",
      "GHCND:USW00094728,20130511,211,161\n",
      "GHCND:USW00094728,20130512,211,106\n",
      "GHCND:USW00094728,20130513,144,72\n",
      "GHCND:USW00094728,20130514,161,56\n",
      "GHCND:USW00094728,20130515,206,111\n",
      "GHCND:USW00094728,20130516,261,167\n",
      "GHCND:USW00094728,20130517,222,144\n",
      "GHCND:USW00094728,20130518,183,133\n",
      "GHCND:USW00094728,20130519,150,128\n",
      "GHCND:USW00094728,20130520,261,144\n",
      "GHCND:USW00094728,20130521,300,200\n",
      "GHCND:USW00094728,20130522,256,150\n",
      "GHCND:USW00094728,20130523,267,178\n",
      "GHCND:USW00094728,20130524,183,72\n",
      "GHCND:USW00094728,20130525,122,72\n",
      "GHCND:USW00094728,20130526,189,89\n",
      "GHCND:USW00094728,20130527,228,106\n",
      "GHCND:USW00094728,20130528,200,133\n",
      "GHCND:USW00094728,20130529,278,144\n",
      "GHCND:USW00094728,20130530,322,222\n",
      "GHCND:USW00094728,20130531,322,239\n",
      "GHCND:USW00094728,20130601,322,228\n",
      "GHCND:USW00094728,20130602,311,206\n",
      "GHCND:USW00094728,20130603,256,189\n",
      "GHCND:USW00094728,20130604,239,139\n",
      "GHCND:USW00094728,20130605,233,144\n",
      "GHCND:USW00094728,20130606,211,150\n",
      "GHCND:USW00094728,20130607,172,150\n",
      "GHCND:USW00094728,20130608,250,139\n",
      "GHCND:USW00094728,20130609,267,172\n",
      "GHCND:USW00094728,20130610,211,167\n",
      "GHCND:USW00094728,20130611,267,178\n",
      "GHCND:USW00094728,20130612,244,183\n",
      "GHCND:USW00094728,20130613,206,128\n",
      "GHCND:USW00094728,20130614,222,117\n",
      "GHCND:USW00094728,20130615,267,161\n",
      "GHCND:USW00094728,20130616,267,183\n",
      "GHCND:USW00094728,20130617,289,206\n",
      "GHCND:USW00094728,20130618,289,178\n",
      "GHCND:USW00094728,20130619,250,150\n",
      "GHCND:USW00094728,20130620,267,167\n",
      "GHCND:USW00094728,20130621,278,178\n",
      "GHCND:USW00094728,20130622,289,183\n",
      "GHCND:USW00094728,20130623,311,211\n",
      "GHCND:USW00094728,20130624,333,233\n",
      "GHCND:USW00094728,20130625,328,228\n",
      "GHCND:USW00094728,20130626,294,233\n",
      "GHCND:USW00094728,20130627,300,228\n",
      "GHCND:USW00094728,20130628,294,228\n",
      "GHCND:USW00094728,20130629,283,217\n",
      "GHCND:USW00094728,20130630,300,228\n",
      "GHCND:USW00094728,20130701,250,222\n",
      "GHCND:USW00094728,20130702,278,222\n",
      "GHCND:USW00094728,20130703,283,228\n",
      "GHCND:USW00094728,20130704,306,239\n",
      "GHCND:USW00094728,20130705,322,244\n",
      "GHCND:USW00094728,20130706,333,256\n",
      "GHCND:USW00094728,20130707,333,256\n",
      "GHCND:USW00094728,20130708,317,228\n",
      "GHCND:USW00094728,20130709,311,233\n",
      "GHCND:USW00094728,20130710,294,239\n",
      "GHCND:USW00094728,20130711,289,244\n",
      "GHCND:USW00094728,20130712,250,200\n",
      "GHCND:USW00094728,20130713,272,194\n",
      "GHCND:USW00094728,20130714,322,233\n",
      "GHCND:USW00094728,20130715,344,256\n",
      "GHCND:USW00094728,20130716,344,250\n",
      "GHCND:USW00094728,20130717,361,261\n",
      "GHCND:USW00094728,20130718,367,272\n",
      "GHCND:USW00094728,20130719,356,283\n",
      "GHCND:USW00094728,20130720,339,272\n",
      "GHCND:USW00094728,20130721,317,244\n",
      "GHCND:USW00094728,20130722,300,239\n",
      "GHCND:USW00094728,20130723,306,228\n",
      "GHCND:USW00094728,20130724,283,200\n",
      "GHCND:USW00094728,20130725,200,178\n",
      "GHCND:USW00094728,20130726,283,183\n",
      "GHCND:USW00094728,20130727,278,211\n",
      "GHCND:USW00094728,20130728,256,211\n",
      "GHCND:USW00094728,20130729,294,206\n",
      "GHCND:USW00094728,20130730,283,194\n",
      "GHCND:USW00094728,20130731,283,194\n",
      "GHCND:USW00094728,20130801,244,189\n",
      "GHCND:USW00094728,20130802,283,194\n",
      "GHCND:USW00094728,20130803,256,200\n",
      "GHCND:USW00094728,20130804,267,189\n",
      "GHCND:USW00094728,20130805,256,167\n",
      "GHCND:USW00094728,20130806,278,178\n",
      "GHCND:USW00094728,20130807,267,211\n",
      "GHCND:USW00094728,20130808,272,211\n",
      "GHCND:USW00094728,20130809,294,233\n",
      "GHCND:USW00094728,20130810,283,211\n",
      "GHCND:USW00094728,20130811,272,183\n",
      "GHCND:USW00094728,20130812,278,211\n",
      "GHCND:USW00094728,20130813,250,200\n",
      "GHCND:USW00094728,20130814,233,161\n",
      "GHCND:USW00094728,20130815,256,150\n",
      "GHCND:USW00094728,20130816,278,178\n",
      "GHCND:USW00094728,20130817,289,178\n",
      "GHCND:USW00094728,20130818,244,200\n",
      "GHCND:USW00094728,20130819,261,189\n",
      "GHCND:USW00094728,20130820,311,200\n",
      "GHCND:USW00094728,20130821,322,222\n",
      "GHCND:USW00094728,20130822,256,217\n",
      "GHCND:USW00094728,20130823,278,217\n",
      "GHCND:USW00094728,20130824,267,183\n",
      "GHCND:USW00094728,20130825,283,178\n",
      "GHCND:USW00094728,20130826,289,200\n",
      "GHCND:USW00094728,20130827,306,217\n",
      "GHCND:USW00094728,20130828,300,217\n",
      "GHCND:USW00094728,20130829,267,217\n",
      "GHCND:USW00094728,20130830,294,211\n",
      "GHCND:USW00094728,20130831,300,228\n",
      "GHCND:USW00094728,20130901,289,239\n",
      "GHCND:USW00094728,20130902,278,233\n",
      "GHCND:USW00094728,20130903,278,200\n",
      "GHCND:USW00094728,20130904,278,183\n",
      "GHCND:USW00094728,20130905,267,178\n",
      "GHCND:USW00094728,20130906,222,139\n",
      "GHCND:USW00094728,20130907,267,150\n",
      "GHCND:USW00094728,20130908,283,178\n",
      "GHCND:USW00094728,20130909,228,139\n",
      "GHCND:USW00094728,20130910,306,200\n",
      "GHCND:USW00094728,20130911,356,250\n",
      "GHCND:USW00094728,20130912,306,211\n",
      "GHCND:USW00094728,20130913,250,150\n",
      "GHCND:USW00094728,20130914,194,122\n",
      "GHCND:USW00094728,20130915,228,106\n",
      "GHCND:USW00094728,20130916,228,133\n",
      "GHCND:USW00094728,20130917,183,100\n",
      "GHCND:USW00094728,20130918,222,106\n",
      "GHCND:USW00094728,20130919,256,128\n",
      "GHCND:USW00094728,20130920,261,156\n",
      "GHCND:USW00094728,20130921,250,161\n",
      "GHCND:USW00094728,20130922,206,122\n",
      "GHCND:USW00094728,20130923,189,100\n",
      "GHCND:USW00094728,20130924,228,83\n",
      "GHCND:USW00094728,20130925,228,111\n",
      "GHCND:USW00094728,20130926,217,144\n",
      "GHCND:USW00094728,20130927,206,139\n",
      "GHCND:USW00094728,20130928,228,133\n",
      "GHCND:USW00094728,20130929,222,139\n",
      "GHCND:USW00094728,20130930,239,133\n",
      "GHCND:USW00094728,20131001,278,150\n",
      "GHCND:USW00094728,20131002,283,178\n",
      "GHCND:USW00094728,20131003,256,172\n",
      "GHCND:USW00094728,20131004,300,189\n",
      "GHCND:USW00094728,20131005,244,178\n",
      "GHCND:USW00094728,20131006,211,183\n",
      "GHCND:USW00094728,20131007,244,156\n",
      "GHCND:USW00094728,20131008,194,122\n",
      "GHCND:USW00094728,20131009,167,117\n",
      "GHCND:USW00094728,20131010,183,122\n",
      "GHCND:USW00094728,20131011,200,156\n",
      "GHCND:USW00094728,20131012,222,156\n",
      "GHCND:USW00094728,20131013,183,133\n",
      "GHCND:USW00094728,20131014,189,111\n",
      "GHCND:USW00094728,20131015,222,117\n",
      "GHCND:USW00094728,20131016,194,133\n",
      "GHCND:USW00094728,20131017,228,161\n",
      "GHCND:USW00094728,20131018,200,128\n",
      "GHCND:USW00094728,20131019,178,111\n",
      "GHCND:USW00094728,20131020,172,100\n",
      "GHCND:USW00094728,20131021,189,100\n",
      "GHCND:USW00094728,20131022,194,106\n",
      "GHCND:USW00094728,20131023,128,72\n",
      "GHCND:USW00094728,20131024,122,50\n",
      "GHCND:USW00094728,20131025,117,44\n",
      "GHCND:USW00094728,20131026,128,50\n",
      "GHCND:USW00094728,20131027,144,78\n",
      "GHCND:USW00094728,20131028,161,61\n",
      "GHCND:USW00094728,20131029,133,67\n",
      "GHCND:USW00094728,20131030,156,83\n",
      "GHCND:USW00094728,20131031,189,117\n",
      "GHCND:USW00094728,20131101,211,150\n",
      "GHCND:USW00094728,20131102,200,128\n",
      "GHCND:USW00094728,20131103,128,28\n",
      "GHCND:USW00094728,20131104,78,17\n",
      "GHCND:USW00094728,20131105,128,50\n",
      "GHCND:USW00094728,20131106,161,94\n",
      "GHCND:USW00094728,20131107,178,67\n",
      "GHCND:USW00094728,20131108,100,44\n",
      "GHCND:USW00094728,20131109,100,33\n",
      "GHCND:USW00094728,20131110,161,67\n",
      "GHCND:USW00094728,20131111,117,61\n",
      "GHCND:USW00094728,20131112,111,-5\n",
      "GHCND:USW00094728,20131113,39,-16\n",
      "GHCND:USW00094728,20131114,111,6\n",
      "GHCND:USW00094728,20131115,139,67\n",
      "GHCND:USW00094728,20131116,156,72\n",
      "GHCND:USW00094728,20131117,156,106\n",
      "GHCND:USW00094728,20131118,183,106\n",
      "GHCND:USW00094728,20131119,106,22\n",
      "GHCND:USW00094728,20131120,67,0\n",
      "GHCND:USW00094728,20131121,111,17\n",
      "GHCND:USW00094728,20131122,139,106\n",
      "GHCND:USW00094728,20131123,122,-5\n",
      "GHCND:USW00094728,20131124,-10,-49\n",
      "GHCND:USW00094728,20131125,17,-49\n",
      "GHCND:USW00094728,20131126,83,6\n",
      "GHCND:USW00094728,20131127,167,17\n",
      "GHCND:USW00094728,20131128,17,-10\n",
      "GHCND:USW00094728,20131129,39,-16\n",
      "GHCND:USW00094728,20131130,39,-38\n",
      "GHCND:USW00094728,20131201,94,22\n",
      "GHCND:USW00094728,20131202,94,50\n",
      "GHCND:USW00094728,20131203,117,33\n",
      "GHCND:USW00094728,20131204,111,50\n",
      "GHCND:USW00094728,20131205,156,89\n",
      "GHCND:USW00094728,20131206,167,28\n",
      "GHCND:USW00094728,20131207,50,0\n",
      "GHCND:USW00094728,20131208,6,-16\n",
      "GHCND:USW00094728,20131209,39,-5\n",
      "GHCND:USW00094728,20131210,28,-10\n",
      "GHCND:USW00094728,20131211,6,-27\n",
      "GHCND:USW00094728,20131212,-10,-49\n",
      "GHCND:USW00094728,20131213,17,-49\n",
      "GHCND:USW00094728,20131214,11,-55\n",
      "GHCND:USW00094728,20131215,44,-10\n",
      "GHCND:USW00094728,20131216,6,-38\n",
      "GHCND:USW00094728,20131217,0,-43\n",
      "GHCND:USW00094728,20131218,28,-49\n",
      "GHCND:USW00094728,20131219,83,-10\n",
      "GHCND:USW00094728,20131220,117,50\n",
      "GHCND:USW00094728,20131221,183,106\n",
      "GHCND:USW00094728,20131222,217,161\n",
      "GHCND:USW00094728,20131223,178,56\n",
      "GHCND:USW00094728,20131224,56,-32\n",
      "GHCND:USW00094728,20131225,-5,-71\n",
      "GHCND:USW00094728,20131226,22,-10\n",
      "GHCND:USW00094728,20131227,44,-5\n",
      "GHCND:USW00094728,20131228,128,22\n",
      "GHCND:USW00094728,20131229,89,50\n",
      "GHCND:USW00094728,20131230,72,-49\n",
      "GHCND:USW00094728,20131231,0,-60\n",
      "GHCND:USW00094728,20140101,6,-43\n"
     ]
    },
    {
     "name": "stderr",
     "output_type": "stream",
     "text": [
      "\n",
      "temperaturas.csv\n",
      "\n",
      "\n",
      "El sistema no puede encontrar el archivo especificado.\n",
      "Error mientras se procesaba: #.\n",
      "El sistema no puede encontrar el archivo especificado.\n",
      "Error mientras se procesaba: el.\n",
      "El sistema no puede encontrar el archivo especificado.\n",
      "Error mientras se procesaba: comando.\n",
      "El sistema no puede encontrar el archivo especificado.\n",
      "Error mientras se procesaba: !cat.\n",
      "El sistema no puede encontrar el archivo especificado.\n",
      "Error mientras se procesaba: es.\n",
      "El sistema no puede encontrar el archivo especificado.\n",
      "Error mientras se procesaba: para.\n",
      "El sistema no puede encontrar el archivo especificado.\n",
      "Error mientras se procesaba: linux.\n",
      "El sistema no puede encontrar el archivo especificado.\n",
      "Error mientras se procesaba: para.\n",
      "El sistema no puede encontrar el archivo especificado.\n",
      "Error mientras se procesaba: window.\n",
      "El sistema no puede encontrar el archivo especificado.\n",
      "Error mientras se procesaba: se.\n",
      "El sistema no puede encontrar el archivo especificado.\n",
      "Error mientras se procesaba: utiliza.\n",
      "El sistema no puede encontrar el archivo especificado.\n",
      "Error mientras se procesaba: !type.\n"
     ]
    }
   ],
   "source": [
    "!type temperaturas.csv # el comando !cat es para linux para window se utiliza !type"
   ]
  },
  {
   "cell_type": "code",
   "execution_count": 16,
   "metadata": {},
   "outputs": [],
   "source": [
    "#para cargar el archivo anterior y poder visualizar las temperaturas se utiliza:\n",
    "datos = np.loadtxt('temperaturas.csv', usecols=(1, 2, 3), skiprows=1, delimiter=',') #la segunda la tercer y la cuarta son para alacenar datos numéricos\n",
    "                                                             #la primera linea se debe saltar porqueno es numerica solo es descriptiva, \n",
    "                                                             #se determina el #de lineas a saltar con skiprows"
   ]
  },
  {
   "cell_type": "code",
   "execution_count": 17,
   "metadata": {},
   "outputs": [
    {
     "data": {
      "text/plain": [
       "[<matplotlib.lines.Line2D at 0x2ecada00e88>]"
      ]
     },
     "execution_count": 17,
     "metadata": {},
     "output_type": "execute_result"
    },
    {
     "data": {
      "image/png": "[encoded data removed]",
      "text/plain": [
       "<Figure size 432x288 with 1 Axes>"
      ]
     },
     "metadata": {
      "needs_background": "light"
     },
     "output_type": "display_data"
    }
   ],
   "source": [
    "fig, axes = plt.subplots()\n",
    "x = np.arange(len(datos[:,1]))\n",
    "\n",
    "temp_media = (datos[:,1] + datos[:,2])/2\n",
    "\n",
    "axes.plot(x, datos[:,1], 'r') \n",
    "axes.plot(x, datos[:,2], 'b')\n",
    "axes.plot(x, temp_media, 'k') #la k viene black"
   ]
  },
  {
   "cell_type": "code",
   "execution_count": 36,
   "metadata": {},
   "outputs": [
    {
     "data": {
      "text/plain": [
       "array([[ 2.0130101e+07,  4.4000000e+01, -3.3000000e+01],\n",
       "       [ 2.0130102e+07,  6.0000000e+00, -5.6000000e+01],\n",
       "       [ 2.0130103e+07,  0.0000000e+00, -4.4000000e+01],\n",
       "       ...,\n",
       "       [ 2.0131230e+07,  7.2000000e+01, -4.9000000e+01],\n",
       "       [ 2.0131231e+07,  0.0000000e+00, -6.0000000e+01],\n",
       "       [ 2.0140101e+07,  6.0000000e+00, -4.3000000e+01]])"
      ]
     },
     "execution_count": 36,
     "metadata": {},
     "output_type": "execute_result"
    }
   ],
   "source": [
    "datos\n"
   ]
  },
  {
   "cell_type": "markdown",
   "metadata": {},
   "source": [
    "## ¿qué es SciPy?"
   ]
  },
  {
   "cell_type": "code",
   "execution_count": 41,
   "metadata": {},
   "outputs": [],
   "source": [
    "#conjunto de paquetes para computación cientifica en general\n",
    "#integración, optimización, interpolación, procesamiento de señales digitales, estadisticas\n",
    "#normalmente interfaces a programas muy utilizados escritos en fortran, o C++\n",
    "#mirar las referencias de SciPy en el menú ayuda en la parte superior de esta página"
   ]
  },
  {
   "cell_type": "code",
   "execution_count": 18,
   "metadata": {},
   "outputs": [],
   "source": [
    "%matplotlib inline"
   ]
  },
  {
   "cell_type": "code",
   "execution_count": 19,
   "metadata": {},
   "outputs": [],
   "source": [
    "import numpy as np\n",
    "import matplotlib.pyplot as plt"
   ]
  },
  {
   "cell_type": "markdown",
   "metadata": {},
   "source": [
    "### Integración"
   ]
  },
  {
   "cell_type": "code",
   "execution_count": 20,
   "metadata": {},
   "outputs": [],
   "source": [
    "from scipy import integrate #desde scipy sólo estoy importando el paquete \"integrate\"\n"
   ]
  },
  {
   "cell_type": "markdown",
   "metadata": {},
   "source": [
    "$$f(x) = Ae^{-Bx^2}$$"
   ]
  },
  {
   "cell_type": "code",
   "execution_count": 21,
   "metadata": {},
   "outputs": [],
   "source": [
    "def f(x, A, B):\n",
    "    return A * np.exp(-B*x**2)\n",
    "    "
   ]
  },
  {
   "cell_type": "code",
   "execution_count": 22,
   "metadata": {},
   "outputs": [
    {
     "data": {
      "text/plain": [
       "(0.8862269254513955, 2.3183115139669666e-14)"
      ]
     },
     "execution_count": 22,
     "metadata": {},
     "output_type": "execute_result"
    }
   ],
   "source": [
    "integrate.quad(f, 0, 5, args=(1.0, 1.0)) #devuelve el resulatado de la función y el segundo valor es el error\n",
    "                         #args adiciona argumentos adicionales en este casos A y B"
   ]
  },
  {
   "cell_type": "markdown",
   "metadata": {},
   "source": [
    "### Ecuaciones diferenciales Ordinarias (EDOs)"
   ]
  },
  {
   "cell_type": "markdown",
   "metadata": {},
   "source": [
    "$$y' + y = 0$$\n",
    "$$y' = f(y)$$ \n",
    "#### y' será función de y"
   ]
  },
  {
   "cell_type": "code",
   "execution_count": 23,
   "metadata": {},
   "outputs": [
    {
     "data": {
      "text/plain": [
       "[<matplotlib.lines.Line2D at 0x2ecae3aaac8>]"
      ]
     },
     "execution_count": 23,
     "metadata": {},
     "output_type": "execute_result"
    },
    {
     "data": {
      "image/png": "[encoded data removed]",
      "text/plain": [
       "<Figure size 432x288 with 1 Axes>"
      ]
     },
     "metadata": {
      "needs_background": "light"
     },
     "output_type": "display_data"
    }
   ],
   "source": [
    "def f(y, t):\n",
    "    return -y\n",
    "y0 = 1.0\n",
    "t = np.linspace(0, 3)#esto es un vector\n",
    "sol = integrate.odeint(f, y0, t)\n",
    "plt.plot(t, sol)"
   ]
  },
  {
   "cell_type": "markdown",
   "metadata": {},
   "source": [
    "### Ecuaciones diferenciales con orden mayor que uno"
   ]
  },
  {
   "cell_type": "markdown",
   "metadata": {},
   "source": [
    "$$y'' + y = 0$$"
   ]
  },
  {
   "cell_type": "markdown",
   "metadata": {},
   "source": [
    "$$\\mathbf{f}(\\mathbf{y}) = \\pmatrix{y \\\\ y '} ' = \\pmatrix{y ' \\\\ y ''} = \\pmatrix{y ' \\\\ -y}$$\n",
    "#### f(y) es una Función vectorial"
   ]
  },
  {
   "cell_type": "code",
   "execution_count": null,
   "metadata": {},
   "outputs": [],
   "source": [
    "def f(y, t): #\"la y va a hacer un vector\"\n",
    "    return np.array"
   ]
  }
 ],
 "metadata": {
  "kernelspec": {
   "display_name": "Python 3",
   "language": "python",
   "name": "python3"
  },
  "language_info": {
   "codemirror_mode": {
    "name": "ipython",
    "version": 3
   },
   "file_extension": ".py",
   "mimetype": "text/x-python",
   "name": "python",
   "nbconvert_exporter": "python",
   "pygments_lexer": "ipython3",
   "version": "3.8.3"
  }
 },
 "nbformat": 4,
 "nbformat_minor": 4
}
